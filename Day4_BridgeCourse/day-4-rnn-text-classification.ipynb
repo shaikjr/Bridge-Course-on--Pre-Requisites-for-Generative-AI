{
 "cells": [
  {
   "cell_type": "markdown",
   "metadata": {
    "papermill": {
     "duration": 0.032326,
     "end_time": "2020-11-17T09:51:58.688610",
     "exception": false,
     "start_time": "2020-11-17T09:51:58.656284",
     "status": "completed"
    },
    "tags": []
   },
   "source": [
    "# Text Classification with an RNN in \n",
    "\n",
    "\n",
    "\n",
    "Hi ! This notebook is part of a series in which I am trying t re-learn Deep Learning concepts I haven't used in a while. Currently, I am interested in Natural Language Processing. I figured I would start by implementing some basic TensorFlow code, in order to continue with more challenging models and datasets. \n",
    "\n",
    "The Pipeline I follow is the usual when using Keras and TF:\n",
    "\n",
    "1. Setup of Libraries.\n",
    "2. Download/ Access Raw Data.\n",
    "3. Create a Text Encoder. This step allows to convert sentences of words into vector representations using tokenization. Some text-preprocessing is required in this step also.\n",
    "4. Optimize the text dataset. Some cool features from TF re used to improve memory and optimization.\n",
    "5. Create the Model. Some times this step will be directly from the TF 2.0 API, or simply using a Sequential model from Keras. A key aspect is necesary to notice. SInce we are working with vector representations of words, it is necesary to build embeddings. Embeeddings are tipically dense encodings of words. Ideally, similar words have similar encodings. \n",
    "6. Compile the model. Depending on the task, this step might get more complicated. For now, I will only use standard compilation parameters.\n",
    "7. Train the model. This is done using Kaggle's GPU power. Thanks Kaggle!.\n",
    "8. Some kind of inference about predicted data or model structure.\n",
    "\n",
    "___\n",
    "\n",
    "\n",
    "In this particular Notebook, the task at hand would be a simple Binary Classification problem using the imdb reviews dataset. The objective is to predict if the review was good or not."
   ]
  },
  {
   "cell_type": "markdown",
   "metadata": {
    "papermill": {
     "duration": 0.03066,
     "end_time": "2020-11-17T09:51:58.751316",
     "exception": false,
     "start_time": "2020-11-17T09:51:58.720656",
     "status": "completed"
    },
    "tags": []
   },
   "source": [
    "## Setup"
   ]
  },
  {
   "cell_type": "markdown",
   "metadata": {
    "papermill": {
     "duration": 0.031841,
     "end_time": "2020-11-17T09:51:58.814432",
     "exception": false,
     "start_time": "2020-11-17T09:51:58.782591",
     "status": "completed"
    },
    "tags": []
   },
   "source": [
    "### Libraries"
   ]
  },
  {
   "cell_type": "code",
   "execution_count": 1,
   "metadata": {
    "execution": {
     "iopub.execute_input": "2020-11-17T09:51:58.884859Z",
     "iopub.status.busy": "2020-11-17T09:51:58.883910Z",
     "iopub.status.idle": "2020-11-17T09:52:09.199255Z",
     "shell.execute_reply": "2020-11-17T09:52:09.198129Z"
    },
    "papermill": {
     "duration": 10.353497,
     "end_time": "2020-11-17T09:52:09.199423",
     "exception": false,
     "start_time": "2020-11-17T09:51:58.845926",
     "status": "completed"
    },
    "tags": []
   },
   "outputs": [],
   "source": [
    "! pip install -q tensorflow_datasets"
   ]
  },
  {
   "cell_type": "code",
   "execution_count": 2,
   "metadata": {
    "_cell_guid": "b1076dfc-b9ad-4769-8c92-a6c4dae69d19",
    "_uuid": "8f2839f25d086af736a60e9eeb907d3b93b6e0e5",
    "execution": {
     "iopub.execute_input": "2020-11-17T09:52:09.296424Z",
     "iopub.status.busy": "2020-11-17T09:52:09.295011Z",
     "iopub.status.idle": "2020-11-17T09:52:16.625068Z",
     "shell.execute_reply": "2020-11-17T09:52:16.624078Z"
    },
    "papermill": {
     "duration": 7.380852,
     "end_time": "2020-11-17T09:52:16.625212",
     "exception": false,
     "start_time": "2020-11-17T09:52:09.244360",
     "status": "completed"
    },
    "tags": []
   },
   "outputs": [],
   "source": [
    "import numpy as np\n",
    "\n",
    "import tensorflow_datasets as tfds\n",
    "import tensorflow as tf\n",
    "\n",
    "tfds.disable_progress_bar()\n",
    "\n",
    "import matplotlib.pyplot as plt"
   ]
  },
  {
   "cell_type": "code",
   "execution_count": 3,
   "metadata": {
    "_cell_guid": "79c7e3d0-c299-4dcb-8224-4455121ee9b0",
    "_uuid": "d629ff2d2480ee46fbb7e2d37f6b5fab8052498a",
    "execution": {
     "iopub.execute_input": "2020-11-17T09:52:16.696385Z",
     "iopub.status.busy": "2020-11-17T09:52:16.695458Z",
     "iopub.status.idle": "2020-11-17T09:52:16.699961Z",
     "shell.execute_reply": "2020-11-17T09:52:16.699374Z"
    },
    "papermill": {
     "duration": 0.042967,
     "end_time": "2020-11-17T09:52:16.700074",
     "exception": false,
     "start_time": "2020-11-17T09:52:16.657107",
     "status": "completed"
    },
    "tags": []
   },
   "outputs": [],
   "source": [
    "def plot_graphs(history, metric):\n",
    "    plt.plot(history.history[metric])\n",
    "    plt.plot(history.history['val_'+metric], '')\n",
    "    plt.xlabel(\"Epochs\")\n",
    "    plt.ylabel(metric)\n",
    "    plt.legend([metric, 'val_'+metric])"
   ]
  },
  {
   "cell_type": "markdown",
   "metadata": {
    "papermill": {
     "duration": 0.031429,
     "end_time": "2020-11-17T09:52:16.763432",
     "exception": false,
     "start_time": "2020-11-17T09:52:16.732003",
     "status": "completed"
    },
    "tags": []
   },
   "source": [
    "### Download Data"
   ]
  },
  {
   "cell_type": "code",
   "execution_count": 4,
   "metadata": {
    "execution": {
     "iopub.execute_input": "2020-11-17T09:52:16.834705Z",
     "iopub.status.busy": "2020-11-17T09:52:16.833828Z",
     "iopub.status.idle": "2020-11-17T09:53:33.185491Z",
     "shell.execute_reply": "2020-11-17T09:53:33.186085Z"
    },
    "papermill": {
     "duration": 76.390739,
     "end_time": "2020-11-17T09:53:33.186259",
     "exception": false,
     "start_time": "2020-11-17T09:52:16.795520",
     "status": "completed"
    },
    "tags": []
   },
   "outputs": [
    {
     "name": "stdout",
     "output_type": "stream",
     "text": [
      "\u001b[1mDownloading and preparing dataset imdb_reviews/plain_text/1.0.0 (download: 80.23 MiB, generated: Unknown size, total: 80.23 MiB) to /root/tensorflow_datasets/imdb_reviews/plain_text/1.0.0...\u001b[0m\n",
      "Shuffling and writing examples to /root/tensorflow_datasets/imdb_reviews/plain_text/1.0.0.incompleteBFEXMZ/imdb_reviews-train.tfrecord\n",
      "Shuffling and writing examples to /root/tensorflow_datasets/imdb_reviews/plain_text/1.0.0.incompleteBFEXMZ/imdb_reviews-test.tfrecord\n",
      "Shuffling and writing examples to /root/tensorflow_datasets/imdb_reviews/plain_text/1.0.0.incompleteBFEXMZ/imdb_reviews-unsupervised.tfrecord\n",
      "\u001b[1mDataset imdb_reviews downloaded and prepared to /root/tensorflow_datasets/imdb_reviews/plain_text/1.0.0. Subsequent calls will reuse this data.\u001b[0m\n"
     ]
    },
    {
     "data": {
      "text/plain": [
       "(TensorSpec(shape=(), dtype=tf.string, name=None),\n",
       " TensorSpec(shape=(), dtype=tf.int64, name=None))"
      ]
     },
     "execution_count": 4,
     "metadata": {},
     "output_type": "execute_result"
    }
   ],
   "source": [
    "dataset, info = tfds.load('imdb_reviews', with_info=True,\n",
    "                          as_supervised=True)\n",
    "train_dataset, test_dataset = dataset['train'], dataset['test']\n",
    "\n",
    "train_dataset.element_spec"
   ]
  },
  {
   "cell_type": "markdown",
   "metadata": {
    "papermill": {
     "duration": 0.034293,
     "end_time": "2020-11-17T09:53:33.255252",
     "exception": false,
     "start_time": "2020-11-17T09:53:33.220959",
     "status": "completed"
    },
    "tags": []
   },
   "source": [
    "An example of the data available"
   ]
  },
  {
   "cell_type": "code",
   "execution_count": 5,
   "metadata": {
    "execution": {
     "iopub.execute_input": "2020-11-17T09:53:33.331595Z",
     "iopub.status.busy": "2020-11-17T09:53:33.330865Z",
     "iopub.status.idle": "2020-11-17T09:53:33.470021Z",
     "shell.execute_reply": "2020-11-17T09:53:33.469265Z"
    },
    "papermill": {
     "duration": 0.179964,
     "end_time": "2020-11-17T09:53:33.470167",
     "exception": false,
     "start_time": "2020-11-17T09:53:33.290203",
     "status": "completed"
    },
    "tags": []
   },
   "outputs": [
    {
     "name": "stdout",
     "output_type": "stream",
     "text": [
      "Text: b\"This was an absolutely terrible movie. Don't be lured in by Christopher Walken or Michael Ironside. Both are great actors, but this must simply be their worst role in history. Even their great acting could not redeem this movie's ridiculous storyline. This movie is an early nineties US propaganda piece. The most pathetic scenes were those when the Columbian rebels were making their cases for revolutions. Maria Conchita Alonso appeared phony, and her pseudo-love affair with Walken was nothing but a pathetic emotional plug in a movie that was devoid of any real meaning. I am disappointed that there are movies like this, ruining actor's like Christopher Walken's good name. I could barely sit through it.\" \n",
      "\n",
      "Label: 0 \n",
      "\n",
      "---\n"
     ]
    }
   ],
   "source": [
    "for example, label in train_dataset.take(1):\n",
    "    print(f'Text: {example.numpy()} \\n')\n",
    "    print(f'Label: {label.numpy()} \\n')\n",
    "    print(\"---\")"
   ]
  },
  {
   "cell_type": "markdown",
   "metadata": {
    "papermill": {
     "duration": 0.034978,
     "end_time": "2020-11-17T09:53:33.541163",
     "exception": false,
     "start_time": "2020-11-17T09:53:33.506185",
     "status": "completed"
    },
    "tags": []
   },
   "source": [
    "### Dataset"
   ]
  },
  {
   "cell_type": "code",
   "execution_count": 6,
   "metadata": {
    "execution": {
     "iopub.execute_input": "2020-11-17T09:53:33.618364Z",
     "iopub.status.busy": "2020-11-17T09:53:33.617596Z",
     "iopub.status.idle": "2020-11-17T09:53:33.624682Z",
     "shell.execute_reply": "2020-11-17T09:53:33.624063Z"
    },
    "papermill": {
     "duration": 0.048673,
     "end_time": "2020-11-17T09:53:33.624807",
     "exception": false,
     "start_time": "2020-11-17T09:53:33.576134",
     "status": "completed"
    },
    "tags": []
   },
   "outputs": [],
   "source": [
    "BUFFER_SIZE = 10000\n",
    "BATCH_SIZE = 64\n",
    "\n",
    "train_dataset = train_dataset.shuffle(BUFFER_SIZE).batch(BATCH_SIZE).prefetch(tf.data.experimental.AUTOTUNE)\n",
    "test_dataset = test_dataset.shuffle(BUFFER_SIZE).batch(BATCH_SIZE).prefetch(tf.data.experimental.AUTOTUNE)"
   ]
  },
  {
   "cell_type": "markdown",
   "metadata": {
    "papermill": {
     "duration": 0.034456,
     "end_time": "2020-11-17T09:53:33.694346",
     "exception": false,
     "start_time": "2020-11-17T09:53:33.659890",
     "status": "completed"
    },
    "tags": []
   },
   "source": [
    "An example of the dataset. It is clear that the data is vectorized now."
   ]
  },
  {
   "cell_type": "code",
   "execution_count": 7,
   "metadata": {
    "execution": {
     "iopub.execute_input": "2020-11-17T09:53:33.771291Z",
     "iopub.status.busy": "2020-11-17T09:53:33.770263Z",
     "iopub.status.idle": "2020-11-17T09:53:34.419132Z",
     "shell.execute_reply": "2020-11-17T09:53:34.420559Z"
    },
    "papermill": {
     "duration": 0.691368,
     "end_time": "2020-11-17T09:53:34.420784",
     "exception": false,
     "start_time": "2020-11-17T09:53:33.729416",
     "status": "completed"
    },
    "tags": []
   },
   "outputs": [
    {
     "name": "stdout",
     "output_type": "stream",
     "text": [
      "Texts : [b\"Weaker entry in the Bulldog Drummond series, with John Howard in the role. Usual funny banter and antics, but not much plot. Barrymore gets something to do as the inspector, swapping disguises to follow Drummond, Algy, and Tenny on a wild goose chase (mostly in circles; perhaps the budget was tighter than usual) to rescue poor Phyllis, who is being held captive by people who want to lure Drummond to his doom. For those keeping score, in this one, Drummond is planning to ask Phyllis to marry him and Algy is worried about missing the baby's christening. It's fun to see Algy and Tenny dressed up as fisherman to blend in at The Angler's Rest, but little of it rises above silly.\"\n",
      " b\"Brilliant film, the next best film to The Drunken Master (Jackie Chan). I recently bought it on an original VHS and i haven't seen this film for 15 years but still as good as it was back then. The acting was terrible and the dubbing was even worse but it those features that make this film (and many other old fashioned Chinese kung-fu movies) great. The choreography is awesome and the storyline is basic. I have never seen the 36th chamber of shaolin but know it is the same film but Gordon liu plays San Te but San Te in Thr Return To The 36th Chamber is played by a different character. It has a lot of comedy value and brilliant kung-fu.\"\n",
      " b'I\\'ll keep the review of this program as short as possible. Skip it. Low budget, not funny, lousy script. Acting not quite as bad as the writing, but still bad. That\\'s all you need to know, but I will continue for the sake of writing more than necessary.<br /><br />This is a film with three segments, each one parodying some other type of movie. A MUCH funnier film with this same exact idea is \"Movie Movie,\" with George C. Scott. Very obscure, but worth searching out. MM parodied films of the 1930\\'s, and did it with elegance, precision and dry wit.<br /><br />This movie did not. It parodies three types of films, supposedly from the late 70\\'s, early 80\\'s era, only it is parodying films I\\'ve (almost) never heard of. The first is, I guess, a parody of \"Kramer Vs. Kramer,\" in a way. Peter Reigert does his best with a dirt poor script. The second is a parody, of, I don\\'t know what...a Danielle Steele novel? I mean, you might see a story like this on Lifetime TV, but in a movie theater? I mean, I remember the 70\\'s, I was there. This is a soap-opera type parody about a fetching young woman who sleeps her way to power. These type of things usually parody themselves, so I don\\'t see how this was even necessary.<br /><br />We are on somewhat easier ground with the third segment, \"The Municipalians,\" which parodies cop movies. I noted elements of \"The New Centurians\" and some \"Dirty Harry\", both of which were almost 10 years old when the film was created. Yeah, nice and current. Robby Benson plays the idealistic young rookie (over-the-top wimpy) while Richard Widmark plays the grizzled veteran cop who drinks whiskey while sitting in the police car (OH! Stop! My sides! He\\'s actually drinking booze in the Police car! How irreverent!) Note that this was the first film after \"Animal House\" to have the \"National Lampoon\" name attached. Wow. To go in five years from that classic flick to this pile of dung is nothing short of shocking. I could go on for hours about the sad decline that caused one of the most cutting-edge and original voices in American humor (that would be National Lampoon, the original magazine for about its first 10 years or so) to sell out and begin a long, slow slide into a world of crap, where now the magazine is long gone and it only exists as a brand name to slap on low-budget \"comedy\" films for a fee. Yet another reason why capitalism (and cocaine) sucks so bad.<br /><br />Anyway, this movie is a serious time suck. Don\\'t waste your 90 minutes. I want mine back. On the positive side, Fred Willard\\'s in it!'] \n",
      "\n",
      "Labels: [0 1 0] \n",
      "\n",
      "----\n"
     ]
    }
   ],
   "source": [
    "for example, label in train_dataset.take(1):\n",
    "    print(f\"Texts : {example.numpy()[:3]} \\n\")\n",
    "    print(f\"Labels: {label.numpy()[:3]} \\n\")\n",
    "    print(\"----\")"
   ]
  },
  {
   "cell_type": "markdown",
   "metadata": {
    "papermill": {
     "duration": 0.035474,
     "end_time": "2020-11-17T09:53:34.492187",
     "exception": false,
     "start_time": "2020-11-17T09:53:34.456713",
     "status": "completed"
    },
    "tags": []
   },
   "source": [
    "## Text Encoder\n",
    "\n",
    "Here we process raw train data into tokens."
   ]
  },
  {
   "cell_type": "code",
   "execution_count": 8,
   "metadata": {
    "execution": {
     "iopub.execute_input": "2020-11-17T09:53:34.570345Z",
     "iopub.status.busy": "2020-11-17T09:53:34.569583Z",
     "iopub.status.idle": "2020-11-17T09:53:42.078102Z",
     "shell.execute_reply": "2020-11-17T09:53:42.076956Z"
    },
    "papermill": {
     "duration": 7.55015,
     "end_time": "2020-11-17T09:53:42.078256",
     "exception": false,
     "start_time": "2020-11-17T09:53:34.528106",
     "status": "completed"
    },
    "tags": []
   },
   "outputs": [],
   "source": [
    "VOCAB_SIZE = 1000\n",
    "encoder = tf.keras.layers.experimental.preprocessing.TextVectorization(max_tokens=VOCAB_SIZE)\n",
    "encoder.adapt(train_dataset.map(lambda text, label: text))\n",
    "\n",
    "vocab = np.array(encoder.get_vocabulary())"
   ]
  },
  {
   "cell_type": "markdown",
   "metadata": {
    "papermill": {
     "duration": 0.035768,
     "end_time": "2020-11-17T09:53:42.150295",
     "exception": false,
     "start_time": "2020-11-17T09:53:42.114527",
     "status": "completed"
    },
    "tags": []
   },
   "source": [
    "Example of the first 20 words in the vocabulary."
   ]
  },
  {
   "cell_type": "code",
   "execution_count": 9,
   "metadata": {
    "execution": {
     "iopub.execute_input": "2020-11-17T09:53:42.231837Z",
     "iopub.status.busy": "2020-11-17T09:53:42.230271Z",
     "iopub.status.idle": "2020-11-17T09:53:42.234492Z",
     "shell.execute_reply": "2020-11-17T09:53:42.235065Z"
    },
    "papermill": {
     "duration": 0.047998,
     "end_time": "2020-11-17T09:53:42.235202",
     "exception": false,
     "start_time": "2020-11-17T09:53:42.187204",
     "status": "completed"
    },
    "tags": []
   },
   "outputs": [
    {
     "data": {
      "text/plain": [
       "array(['', '[UNK]', 'the', 'and', 'a', 'of', 'to', 'is', 'in', 'it', 'i',\n",
       "       'this', 'that', 'br', 'was', 'as', 'for', 'with', 'movie', 'but'],\n",
       "      dtype='<U14')"
      ]
     },
     "execution_count": 9,
     "metadata": {},
     "output_type": "execute_result"
    }
   ],
   "source": [
    "vocab[:20]"
   ]
  },
  {
   "cell_type": "markdown",
   "metadata": {
    "papermill": {
     "duration": 0.036116,
     "end_time": "2020-11-17T09:53:42.307960",
     "exception": false,
     "start_time": "2020-11-17T09:53:42.271844",
     "status": "completed"
    },
    "tags": []
   },
   "source": [
    "Notice that sentences have variable lengths. The TextVectorizers produces a 0 padding up to the maximum lngth available in the dataset."
   ]
  },
  {
   "cell_type": "code",
   "execution_count": 10,
   "metadata": {
    "execution": {
     "iopub.execute_input": "2020-11-17T09:53:42.387074Z",
     "iopub.status.busy": "2020-11-17T09:53:42.386099Z",
     "iopub.status.idle": "2020-11-17T09:53:42.430153Z",
     "shell.execute_reply": "2020-11-17T09:53:42.429068Z"
    },
    "papermill": {
     "duration": 0.085657,
     "end_time": "2020-11-17T09:53:42.430279",
     "exception": false,
     "start_time": "2020-11-17T09:53:42.344622",
     "status": "completed"
    },
    "tags": []
   },
   "outputs": [
    {
     "data": {
      "text/plain": [
       "array([[  1,   1,   8, ...,   0,   0,   0],\n",
       "       [525,  20,   2, ...,   0,   0,   0],\n",
       "       [527, 382,   2, ...,   0,   0,   0]])"
      ]
     },
     "execution_count": 10,
     "metadata": {},
     "output_type": "execute_result"
    }
   ],
   "source": [
    "encoded_example = encoder(example)[:3].numpy()\n",
    "encoded_example"
   ]
  },
  {
   "cell_type": "markdown",
   "metadata": {
    "papermill": {
     "duration": 0.037038,
     "end_time": "2020-11-17T09:53:42.505037",
     "exception": false,
     "start_time": "2020-11-17T09:53:42.467999",
     "status": "completed"
    },
    "tags": []
   },
   "source": [
    "An important thing to notice is that the vectorization is non biyective, since upper cases and punctuationss are removed. Additionally, the size of the vocabulary is small and hence some workds will be tokenized das Unknown by the TextVectorizer."
   ]
  },
  {
   "cell_type": "code",
   "execution_count": 11,
   "metadata": {
    "execution": {
     "iopub.execute_input": "2020-11-17T09:53:42.586631Z",
     "iopub.status.busy": "2020-11-17T09:53:42.585827Z",
     "iopub.status.idle": "2020-11-17T09:53:42.601939Z",
     "shell.execute_reply": "2020-11-17T09:53:42.602714Z"
    },
    "papermill": {
     "duration": 0.060291,
     "end_time": "2020-11-17T09:53:42.602884",
     "exception": false,
     "start_time": "2020-11-17T09:53:42.542593",
     "status": "completed"
    },
    "tags": []
   },
   "outputs": [
    {
     "name": "stdout",
     "output_type": "stream",
     "text": [
      "Original:  b\"Weaker entry in the Bulldog Drummond series, with John Howard in the role. Usual funny banter and antics, but not much plot. Barrymore gets something to do as the inspector, swapping disguises to follow Drummond, Algy, and Tenny on a wild goose chase (mostly in circles; perhaps the budget was tighter than usual) to rescue poor Phyllis, who is being held captive by people who want to lure Drummond to his doom. For those keeping score, in this one, Drummond is planning to ask Phyllis to marry him and Algy is worried about missing the baby's christening. It's fun to see Algy and Tenny dressed up as fisherman to blend in at The Angler's Rest, but little of it rises above silly.\"\n",
      "Round-trip:  [UNK] [UNK] in the [UNK] [UNK] series with john [UNK] in the role usual funny [UNK] and [UNK] but not much plot [UNK] gets something to do as the [UNK] [UNK] [UNK] to follow [UNK] [UNK] and [UNK] on a [UNK] [UNK] [UNK] mostly in [UNK] perhaps the budget was [UNK] than usual to [UNK] poor [UNK] who is being [UNK] [UNK] by people who want to [UNK] [UNK] to his [UNK] for those [UNK] score in this one [UNK] is [UNK] to ask [UNK] to [UNK] him and [UNK] is [UNK] about missing the [UNK] [UNK] its fun to see [UNK] and [UNK] [UNK] up as [UNK] to [UNK] in at the [UNK] rest but little of it [UNK] above silly                                                                                                                                                                                                                                                                                                                                                                                                                                                                                                                                                                                                                                                                                                                                                                                                                                                                                                   \n",
      "\n",
      "Original:  b\"Brilliant film, the next best film to The Drunken Master (Jackie Chan). I recently bought it on an original VHS and i haven't seen this film for 15 years but still as good as it was back then. The acting was terrible and the dubbing was even worse but it those features that make this film (and many other old fashioned Chinese kung-fu movies) great. The choreography is awesome and the storyline is basic. I have never seen the 36th chamber of shaolin but know it is the same film but Gordon liu plays San Te but San Te in Thr Return To The 36th Chamber is played by a different character. It has a lot of comedy value and brilliant kung-fu.\"\n",
      "Round-trip:  brilliant film the next best film to the [UNK] [UNK] [UNK] [UNK] i [UNK] [UNK] it on an original [UNK] and i havent seen this film for [UNK] years but still as good as it was back then the acting was terrible and the [UNK] was even worse but it those features that make this film and many other old [UNK] [UNK] [UNK] movies great the [UNK] is [UNK] and the storyline is [UNK] i have never seen the [UNK] [UNK] of [UNK] but know it is the same film but [UNK] [UNK] plays [UNK] [UNK] but [UNK] [UNK] in [UNK] return to the [UNK] [UNK] is played by a different character it has a lot of comedy [UNK] and brilliant [UNK]                                                                                                                                                                                                                                                                                                                                                                                                                                                                                                                                                                                                                                                                                                                                                                                                                                                                                                   \n",
      "\n",
      "Original:  b'I\\'ll keep the review of this program as short as possible. Skip it. Low budget, not funny, lousy script. Acting not quite as bad as the writing, but still bad. That\\'s all you need to know, but I will continue for the sake of writing more than necessary.<br /><br />This is a film with three segments, each one parodying some other type of movie. A MUCH funnier film with this same exact idea is \"Movie Movie,\" with George C. Scott. Very obscure, but worth searching out. MM parodied films of the 1930\\'s, and did it with elegance, precision and dry wit.<br /><br />This movie did not. It parodies three types of films, supposedly from the late 70\\'s, early 80\\'s era, only it is parodying films I\\'ve (almost) never heard of. The first is, I guess, a parody of \"Kramer Vs. Kramer,\" in a way. Peter Reigert does his best with a dirt poor script. The second is a parody, of, I don\\'t know what...a Danielle Steele novel? I mean, you might see a story like this on Lifetime TV, but in a movie theater? I mean, I remember the 70\\'s, I was there. This is a soap-opera type parody about a fetching young woman who sleeps her way to power. These type of things usually parody themselves, so I don\\'t see how this was even necessary.<br /><br />We are on somewhat easier ground with the third segment, \"The Municipalians,\" which parodies cop movies. I noted elements of \"The New Centurians\" and some \"Dirty Harry\", both of which were almost 10 years old when the film was created. Yeah, nice and current. Robby Benson plays the idealistic young rookie (over-the-top wimpy) while Richard Widmark plays the grizzled veteran cop who drinks whiskey while sitting in the police car (OH! Stop! My sides! He\\'s actually drinking booze in the Police car! How irreverent!) Note that this was the first film after \"Animal House\" to have the \"National Lampoon\" name attached. Wow. To go in five years from that classic flick to this pile of dung is nothing short of shocking. I could go on for hours about the sad decline that caused one of the most cutting-edge and original voices in American humor (that would be National Lampoon, the original magazine for about its first 10 years or so) to sell out and begin a long, slow slide into a world of crap, where now the magazine is long gone and it only exists as a brand name to slap on low-budget \"comedy\" films for a fee. Yet another reason why capitalism (and cocaine) sucks so bad.<br /><br />Anyway, this movie is a serious time suck. Don\\'t waste your 90 minutes. I want mine back. On the positive side, Fred Willard\\'s in it!'\n",
      "Round-trip:  ill keep the review of this [UNK] as short as possible [UNK] it low budget not funny [UNK] script acting not quite as bad as the writing but still bad thats all you need to know but i will [UNK] for the [UNK] of writing more than [UNK] br this is a film with three [UNK] each one [UNK] some other type of movie a much [UNK] film with this same [UNK] idea is movie movie with george [UNK] [UNK] very [UNK] but worth [UNK] out [UNK] [UNK] films of the [UNK] and did it with [UNK] [UNK] and [UNK] [UNK] br this movie did not it [UNK] three [UNK] of films [UNK] from the late 70s early 80s [UNK] only it is [UNK] films ive almost never heard of the first is i guess a [UNK] of [UNK] [UNK] [UNK] in a way peter [UNK] does his best with a [UNK] poor script the second is a [UNK] of i dont know [UNK] [UNK] [UNK] novel i mean you might see a story like this on [UNK] tv but in a movie theater i mean i remember the 70s i was there this is a [UNK] type [UNK] about a [UNK] young woman who [UNK] her way to power these type of things usually [UNK] themselves so i dont see how this was even [UNK] br we are on somewhat [UNK] [UNK] with the third [UNK] the [UNK] which [UNK] [UNK] movies i [UNK] elements of the new [UNK] and some [UNK] [UNK] both of which were almost 10 years old when the film was [UNK] [UNK] nice and [UNK] [UNK] [UNK] plays the [UNK] young [UNK] [UNK] [UNK] while richard [UNK] plays the [UNK] [UNK] [UNK] who [UNK] [UNK] while [UNK] in the police car oh stop my [UNK] hes actually [UNK] [UNK] in the police car how [UNK] note that this was the first film after [UNK] house to have the [UNK] [UNK] name [UNK] [UNK] to go in five years from that classic flick to this [UNK] of [UNK] is nothing short of [UNK] i could go on for hours about the sad [UNK] that [UNK] one of the most [UNK] and original [UNK] in american humor that would be [UNK] [UNK] the original [UNK] for about its first 10 years or so to [UNK] out and begin a long slow [UNK] into a world of crap where now the [UNK] is long gone and it only [UNK] as a [UNK] name to [UNK] on [UNK] comedy films for a [UNK] yet another reason why [UNK] and [UNK] [UNK] so [UNK] br anyway this movie is a serious time [UNK] dont waste your [UNK] minutes i want [UNK] back on the [UNK] side [UNK] [UNK] in it                                                                                                                                                                                                                                                                                                                                                                                                                                                                                                                                                \n",
      "\n"
     ]
    }
   ],
   "source": [
    "for n in range(3):\n",
    "  print(\"Original: \", example[n].numpy())\n",
    "  print(\"Round-trip: \", \" \".join(vocab[encoded_example[n]]))\n",
    "  print()"
   ]
  },
  {
   "cell_type": "markdown",
   "metadata": {
    "papermill": {
     "duration": 0.052873,
     "end_time": "2020-11-17T09:53:42.695324",
     "exception": false,
     "start_time": "2020-11-17T09:53:42.642451",
     "status": "completed"
    },
    "tags": []
   },
   "source": [
    "## Create a Model\n",
    "\n",
    "We use a very simple model. The model is composed by five Layers in a Sequential flow. \n",
    "\n",
    "\n",
    "\n",
    "![](https://www.tensorflow.org/tutorials/text/images/bidirectional.png)\n",
    "\n",
    "\n",
    "\n",
    "The TextVectorization and Embedding Layers have been explained. In the Bidirectional Layer, we use an RNN. This allows the input to be propagated in both forward and backward directions, generating two outputs that are concatenated at the end, and sent as input for a Dense layer and a final Classifier."
   ]
  },
  {
   "cell_type": "code",
   "execution_count": 12,
   "metadata": {
    "execution": {
     "iopub.execute_input": "2020-11-17T09:53:42.779817Z",
     "iopub.status.busy": "2020-11-17T09:53:42.779076Z",
     "iopub.status.idle": "2020-11-17T09:53:42.825276Z",
     "shell.execute_reply": "2020-11-17T09:53:42.824490Z"
    },
    "papermill": {
     "duration": 0.091648,
     "end_time": "2020-11-17T09:53:42.825402",
     "exception": false,
     "start_time": "2020-11-17T09:53:42.733754",
     "status": "completed"
    },
    "tags": []
   },
   "outputs": [],
   "source": [
    "model = tf.keras.Sequential([\n",
    "    encoder,\n",
    "    tf.keras.layers.Embedding(\n",
    "        input_dim=len(encoder.get_vocabulary()),\n",
    "        output_dim=64,\n",
    "        # Use masking to handle the variable sequence lengths\n",
    "        mask_zero=True),\n",
    "    tf.keras.layers.Bidirectional(tf.keras.layers.LSTM(64)),\n",
    "    tf.keras.layers.Dense(64, activation='relu'),\n",
    "    tf.keras.layers.Dense(1)\n",
    "])"
   ]
  },
  {
   "cell_type": "markdown",
   "metadata": {
    "papermill": {
     "duration": 0.038243,
     "end_time": "2020-11-17T09:53:42.902535",
     "exception": false,
     "start_time": "2020-11-17T09:53:42.864292",
     "status": "completed"
    },
    "tags": []
   },
   "source": [
    "## Compile the Model\n",
    "\n",
    "We compile the model. We use the Binary Crossentropy Loss since we are dealing with Binary Classification. We also use the Adam optmizer. We use a smaller learning rate."
   ]
  },
  {
   "cell_type": "code",
   "execution_count": 13,
   "metadata": {
    "execution": {
     "iopub.execute_input": "2020-11-17T09:53:42.993088Z",
     "iopub.status.busy": "2020-11-17T09:53:42.992363Z",
     "iopub.status.idle": "2020-11-17T09:53:43.003631Z",
     "shell.execute_reply": "2020-11-17T09:53:43.002318Z"
    },
    "papermill": {
     "duration": 0.062799,
     "end_time": "2020-11-17T09:53:43.003760",
     "exception": false,
     "start_time": "2020-11-17T09:53:42.940961",
     "status": "completed"
    },
    "tags": []
   },
   "outputs": [],
   "source": [
    "model.compile(loss=tf.keras.losses.BinaryCrossentropy(from_logits=True),\n",
    "              optimizer=tf.keras.optimizers.Adam(1e-4),\n",
    "              metrics=['accuracy'])"
   ]
  },
  {
   "cell_type": "markdown",
   "metadata": {
    "papermill": {
     "duration": 0.03832,
     "end_time": "2020-11-17T09:53:43.081299",
     "exception": false,
     "start_time": "2020-11-17T09:53:43.042979",
     "status": "completed"
    },
    "tags": []
   },
   "source": [
    "## Train the Model"
   ]
  },
  {
   "cell_type": "code",
   "execution_count": 14,
   "metadata": {
    "execution": {
     "iopub.execute_input": "2020-11-17T09:53:43.165074Z",
     "iopub.status.busy": "2020-11-17T09:53:43.164013Z",
     "iopub.status.idle": "2020-11-17T10:00:03.253288Z",
     "shell.execute_reply": "2020-11-17T10:00:03.253887Z"
    },
    "papermill": {
     "duration": 380.134214,
     "end_time": "2020-11-17T10:00:03.254072",
     "exception": false,
     "start_time": "2020-11-17T09:53:43.119858",
     "status": "completed"
    },
    "tags": []
   },
   "outputs": [
    {
     "name": "stdout",
     "output_type": "stream",
     "text": [
      "Epoch 1/10\n",
      "391/391 [==============================] - 38s 97ms/step - loss: 0.6325 - accuracy: 0.5796 - val_loss: 0.5354 - val_accuracy: 0.7036\n",
      "Epoch 2/10\n",
      "391/391 [==============================] - 35s 88ms/step - loss: 0.4363 - accuracy: 0.7909 - val_loss: 0.4109 - val_accuracy: 0.8052\n",
      "Epoch 3/10\n",
      "391/391 [==============================] - 36s 91ms/step - loss: 0.3594 - accuracy: 0.8405 - val_loss: 0.3661 - val_accuracy: 0.8375\n",
      "Epoch 4/10\n",
      "391/391 [==============================] - 36s 91ms/step - loss: 0.3321 - accuracy: 0.8577 - val_loss: 0.3505 - val_accuracy: 0.8464\n",
      "Epoch 5/10\n",
      "391/391 [==============================] - 37s 94ms/step - loss: 0.3176 - accuracy: 0.8646 - val_loss: 0.3178 - val_accuracy: 0.8641\n",
      "Epoch 6/10\n",
      "391/391 [==============================] - 36s 91ms/step - loss: 0.3086 - accuracy: 0.8697 - val_loss: 0.2957 - val_accuracy: 0.8703\n",
      "Epoch 7/10\n",
      "391/391 [==============================] - 35s 89ms/step - loss: 0.3050 - accuracy: 0.8714 - val_loss: 0.3237 - val_accuracy: 0.8677\n",
      "Epoch 8/10\n",
      "391/391 [==============================] - 36s 93ms/step - loss: 0.2999 - accuracy: 0.8733 - val_loss: 0.3111 - val_accuracy: 0.8677\n",
      "Epoch 9/10\n",
      "391/391 [==============================] - 35s 90ms/step - loss: 0.2986 - accuracy: 0.8724 - val_loss: 0.3118 - val_accuracy: 0.8714\n",
      "Epoch 10/10\n",
      "391/391 [==============================] - 36s 92ms/step - loss: 0.2949 - accuracy: 0.8769 - val_loss: 0.3125 - val_accuracy: 0.8615\n"
     ]
    }
   ],
   "source": [
    "history = model.fit(train_dataset, epochs=10,\n",
    "                    validation_data=test_dataset, \n",
    "                    validation_steps=30)"
   ]
  },
  {
   "cell_type": "code",
   "execution_count": 15,
   "metadata": {
    "execution": {
     "iopub.execute_input": "2020-11-17T10:00:06.810205Z",
     "iopub.status.busy": "2020-11-17T10:00:06.809315Z",
     "iopub.status.idle": "2020-11-17T10:00:07.076402Z",
     "shell.execute_reply": "2020-11-17T10:00:07.075315Z"
    },
    "papermill": {
     "duration": 2.204907,
     "end_time": "2020-11-17T10:00:07.076530",
     "exception": false,
     "start_time": "2020-11-17T10:00:04.871623",
     "status": "completed"
    },
    "tags": []
   },
   "outputs": [
    {
     "data": {
      "image/png": "[encoded data removed]",
      "text/plain": [
       "<Figure size 432x288 with 1 Axes>"
      ]
     },
     "metadata": {
      "needs_background": "light"
     },
     "output_type": "display_data"
    }
   ],
   "source": [
    "plot_graphs(history, \"accuracy\")"
   ]
  },
  {
   "cell_type": "markdown",
   "metadata": {
    "papermill": {
     "duration": 1.70212,
     "end_time": "2020-11-17T10:00:10.405748",
     "exception": false,
     "start_time": "2020-11-17T10:00:08.703628",
     "status": "completed"
    },
    "tags": []
   },
   "source": [
    "We achieve reazonable high validation accuracy, considering the vocabulary size and the number of epochs."
   ]
  },
  {
   "cell_type": "markdown",
   "metadata": {
    "papermill": {
     "duration": 1.615542,
     "end_time": "2020-11-17T10:00:14.055965",
     "exception": false,
     "start_time": "2020-11-17T10:00:12.440423",
     "status": "completed"
    },
    "tags": []
   },
   "source": [
    "## Run a Simple Prediction\n",
    "\n",
    "We run the model on a simple sentence. The output is a logit probability, and so we threshold in 0.0 for positive or negative review."
   ]
  },
  {
   "cell_type": "code",
   "execution_count": 16,
   "metadata": {
    "execution": {
     "iopub.execute_input": "2020-11-17T10:00:17.551888Z",
     "iopub.status.busy": "2020-11-17T10:00:17.550642Z",
     "iopub.status.idle": "2020-11-17T10:00:20.057296Z",
     "shell.execute_reply": "2020-11-17T10:00:20.056109Z"
    },
    "papermill": {
     "duration": 4.392682,
     "end_time": "2020-11-17T10:00:20.057437",
     "exception": false,
     "start_time": "2020-11-17T10:00:15.664755",
     "status": "completed"
    },
    "tags": []
   },
   "outputs": [
    {
     "data": {
      "text/plain": [
       "array([[0.8703917]], dtype=float32)"
      ]
     },
     "execution_count": 16,
     "metadata": {},
     "output_type": "execute_result"
    }
   ],
   "source": [
    "sample_text = ('The movie was cool. The animation and the graphics '\n",
    "               'were out of this world. I would recommend this movie.')\n",
    "predictions = model.predict(np.array([sample_text]))\n",
    "predictions"
   ]
  },
  {
   "cell_type": "markdown",
   "metadata": {
    "papermill": {
     "duration": 1.694669,
     "end_time": "2020-11-17T10:00:23.692097",
     "exception": false,
     "start_time": "2020-11-17T10:00:21.997428",
     "status": "completed"
    },
    "tags": []
   },
   "source": [
    "The prediction is that the review is positive, which seems true. Nonetheless, the probability is very near the threshold. This might indicate that the model can be improved."
   ]
  },
  {
   "cell_type": "markdown",
   "metadata": {
    "papermill": {
     "duration": 1.908495,
     "end_time": "2020-11-17T10:00:27.238002",
     "exception": false,
     "start_time": "2020-11-17T10:00:25.329507",
     "status": "completed"
    },
    "tags": []
   },
   "source": [
    "## Stacking two or more LSTM\n",
    "\n",
    "\n",
    "Recurrent Layers have the option to return sequences. This means that the output for each neuron is returned, and not just the last one (a 2D tensor of shape (batch_size, output_feature)).\n",
    "\n",
    "If we return the sequences, we obtain a 3D tensor of shape (batch_size, time_steps, output_features). This can be given as input for consective RNNs, since it has 3 axes as the input."
   ]
  },
  {
   "cell_type": "code",
   "execution_count": 17,
   "metadata": {
    "execution": {
     "iopub.execute_input": "2020-11-17T10:00:30.923318Z",
     "iopub.status.busy": "2020-11-17T10:00:30.922346Z",
     "iopub.status.idle": "2020-11-17T10:00:30.974803Z",
     "shell.execute_reply": "2020-11-17T10:00:30.974065Z"
    },
    "papermill": {
     "duration": 1.781623,
     "end_time": "2020-11-17T10:00:30.974936",
     "exception": false,
     "start_time": "2020-11-17T10:00:29.193313",
     "status": "completed"
    },
    "tags": []
   },
   "outputs": [],
   "source": [
    "model = tf.keras.Sequential([\n",
    "    encoder,\n",
    "    tf.keras.layers.Embedding(len(encoder.get_vocabulary()), 64, mask_zero=True),\n",
    "    tf.keras.layers.Bidirectional(tf.keras.layers.LSTM(64,  return_sequences=True)),\n",
    "    tf.keras.layers.Bidirectional(tf.keras.layers.LSTM(32)),\n",
    "    tf.keras.layers.Dense(64, activation='relu'),\n",
    "    tf.keras.layers.Dropout(0.5),\n",
    "    tf.keras.layers.Dense(1)\n",
    "])"
   ]
  },
  {
   "cell_type": "markdown",
   "metadata": {
    "papermill": {
     "duration": 1.597508,
     "end_time": "2020-11-17T10:00:34.274934",
     "exception": false,
     "start_time": "2020-11-17T10:00:32.677426",
     "status": "completed"
    },
    "tags": []
   },
   "source": [
    "The rest of the training configuration is the same."
   ]
  },
  {
   "cell_type": "code",
   "execution_count": 18,
   "metadata": {
    "execution": {
     "iopub.execute_input": "2020-11-17T10:00:37.495583Z",
     "iopub.status.busy": "2020-11-17T10:00:37.494433Z",
     "iopub.status.idle": "2020-11-17T10:00:37.500959Z",
     "shell.execute_reply": "2020-11-17T10:00:37.501669Z"
    },
    "papermill": {
     "duration": 1.626136,
     "end_time": "2020-11-17T10:00:37.501837",
     "exception": false,
     "start_time": "2020-11-17T10:00:35.875701",
     "status": "completed"
    },
    "tags": []
   },
   "outputs": [],
   "source": [
    "model.compile(loss=tf.keras.losses.BinaryCrossentropy(from_logits=True),\n",
    "              optimizer=tf.keras.optimizers.Adam(1e-4),\n",
    "              metrics=['accuracy'])"
   ]
  },
  {
   "cell_type": "markdown",
   "metadata": {
    "papermill": {
     "duration": 1.643126,
     "end_time": "2020-11-17T10:00:41.006051",
     "exception": false,
     "start_time": "2020-11-17T10:00:39.362925",
     "status": "completed"
    },
    "tags": []
   },
   "source": [
    "We now train the model with the same configuration as before."
   ]
  },
  {
   "cell_type": "code",
   "execution_count": 19,
   "metadata": {
    "execution": {
     "iopub.execute_input": "2020-11-17T10:00:44.676005Z",
     "iopub.status.busy": "2020-11-17T10:00:44.673405Z",
     "iopub.status.idle": "2020-11-17T10:11:48.876579Z",
     "shell.execute_reply": "2020-11-17T10:11:48.875494Z"
    },
    "papermill": {
     "duration": 665.996365,
     "end_time": "2020-11-17T10:11:48.876720",
     "exception": false,
     "start_time": "2020-11-17T10:00:42.880355",
     "status": "completed"
    },
    "tags": []
   },
   "outputs": [
    {
     "name": "stdout",
     "output_type": "stream",
     "text": [
      "Epoch 1/10\n",
      "391/391 [==============================] - 67s 172ms/step - loss: 0.6242 - accuracy: 0.5959 - val_loss: 0.4697 - val_accuracy: 0.7719\n",
      "Epoch 2/10\n",
      "391/391 [==============================] - 63s 161ms/step - loss: 0.3971 - accuracy: 0.8273 - val_loss: 0.3578 - val_accuracy: 0.8344\n",
      "Epoch 3/10\n",
      "391/391 [==============================] - 63s 161ms/step - loss: 0.3461 - accuracy: 0.8517 - val_loss: 0.3805 - val_accuracy: 0.7911\n",
      "Epoch 4/10\n",
      "391/391 [==============================] - 63s 161ms/step - loss: 0.3250 - accuracy: 0.8615 - val_loss: 0.3175 - val_accuracy: 0.8651\n",
      "Epoch 5/10\n",
      "391/391 [==============================] - 63s 162ms/step - loss: 0.3177 - accuracy: 0.8645 - val_loss: 0.3193 - val_accuracy: 0.8615\n",
      "Epoch 6/10\n",
      "391/391 [==============================] - 63s 162ms/step - loss: 0.3095 - accuracy: 0.8682 - val_loss: 0.3233 - val_accuracy: 0.8557\n",
      "Epoch 7/10\n",
      "391/391 [==============================] - 63s 161ms/step - loss: 0.3081 - accuracy: 0.8678 - val_loss: 0.3064 - val_accuracy: 0.8682\n",
      "Epoch 8/10\n",
      "391/391 [==============================] - 62s 159ms/step - loss: 0.3040 - accuracy: 0.8700 - val_loss: 0.3086 - val_accuracy: 0.8568\n",
      "Epoch 9/10\n",
      "391/391 [==============================] - 64s 163ms/step - loss: 0.3013 - accuracy: 0.8691 - val_loss: 0.3302 - val_accuracy: 0.8510\n",
      "Epoch 10/10\n",
      "391/391 [==============================] - 64s 163ms/step - loss: 0.2999 - accuracy: 0.8724 - val_loss: 0.3327 - val_accuracy: 0.8500\n"
     ]
    }
   ],
   "source": [
    "history = model.fit(train_dataset, epochs=10,\n",
    "                    validation_data=test_dataset,\n",
    "                    validation_steps=30)"
   ]
  },
  {
   "cell_type": "markdown",
   "metadata": {
    "papermill": {
     "duration": 3.172475,
     "end_time": "2020-11-17T10:11:55.482520",
     "exception": false,
     "start_time": "2020-11-17T10:11:52.310045",
     "status": "completed"
    },
    "tags": []
   },
   "source": [
    "We now plot the train and validation results. "
   ]
  },
  {
   "cell_type": "code",
   "execution_count": 20,
   "metadata": {
    "execution": {
     "iopub.execute_input": "2020-11-17T10:12:02.527058Z",
     "iopub.status.busy": "2020-11-17T10:12:02.525900Z",
     "iopub.status.idle": "2020-11-17T10:12:02.717985Z",
     "shell.execute_reply": "2020-11-17T10:12:02.718645Z"
    },
    "papermill": {
     "duration": 3.627785,
     "end_time": "2020-11-17T10:12:02.718815",
     "exception": false,
     "start_time": "2020-11-17T10:11:59.091030",
     "status": "completed"
    },
    "tags": []
   },
   "outputs": [
    {
     "data": {
      "image/png": "[encoded data removed]",
      "text/plain": [
       "<Figure size 432x288 with 1 Axes>"
      ]
     },
     "metadata": {
      "needs_background": "light"
     },
     "output_type": "display_data"
    }
   ],
   "source": [
    "plot_graphs(history, \"accuracy\")"
   ]
  },
  {
   "cell_type": "markdown",
   "metadata": {
    "papermill": {
     "duration": 3.216574,
     "end_time": "2020-11-17T10:12:09.151885",
     "exception": false,
     "start_time": "2020-11-17T10:12:05.935311",
     "status": "completed"
    },
    "tags": []
   },
   "source": [
    "### Evaluation"
   ]
  },
  {
   "cell_type": "markdown",
   "metadata": {
    "papermill": {
     "duration": 3.144909,
     "end_time": "2020-11-17T10:12:15.736682",
     "exception": false,
     "start_time": "2020-11-17T10:12:12.591773",
     "status": "completed"
    },
    "tags": []
   },
   "source": [
    "We evaluate the model on the test set to obtain the best loss and accuracy values."
   ]
  },
  {
   "cell_type": "code",
   "execution_count": 21,
   "metadata": {
    "execution": {
     "iopub.execute_input": "2020-11-17T10:12:22.508503Z",
     "iopub.status.busy": "2020-11-17T10:12:22.507449Z",
     "iopub.status.idle": "2020-11-17T10:12:50.005878Z",
     "shell.execute_reply": "2020-11-17T10:12:50.005230Z"
    },
    "papermill": {
     "duration": 31.060563,
     "end_time": "2020-11-17T10:12:50.006011",
     "exception": false,
     "start_time": "2020-11-17T10:12:18.945448",
     "status": "completed"
    },
    "tags": []
   },
   "outputs": [
    {
     "name": "stdout",
     "output_type": "stream",
     "text": [
      "391/391 [==============================] - 27s 68ms/step - loss: 0.3167 - accuracy: 0.8596\n",
      "Test Loss: 0.3167353570461273\n",
      "Test Accuracy: 0.8596000075340271\n"
     ]
    }
   ],
   "source": [
    "test_loss, test_acc = model.evaluate(test_dataset)\n",
    "\n",
    "print('Test Loss: {}'.format(test_loss))\n",
    "print('Test Accuracy: {}'.format(test_acc))"
   ]
  },
  {
   "cell_type": "markdown",
   "metadata": {
    "papermill": {
     "duration": 3.650947,
     "end_time": "2020-11-17T10:12:57.066133",
     "exception": false,
     "start_time": "2020-11-17T10:12:53.415186",
     "status": "completed"
    },
    "tags": []
   },
   "source": [
    "Finally, we make a prediction on a simple sentence:"
   ]
  },
  {
   "cell_type": "code",
   "execution_count": 22,
   "metadata": {
    "execution": {
     "iopub.execute_input": "2020-11-17T10:13:04.196533Z",
     "iopub.status.busy": "2020-11-17T10:13:04.195517Z",
     "iopub.status.idle": "2020-11-17T10:13:09.235985Z",
     "shell.execute_reply": "2020-11-17T10:13:09.236602Z"
    },
    "papermill": {
     "duration": 8.722877,
     "end_time": "2020-11-17T10:13:09.236768",
     "exception": false,
     "start_time": "2020-11-17T10:13:00.513891",
     "status": "completed"
    },
    "tags": []
   },
   "outputs": [
    {
     "name": "stdout",
     "output_type": "stream",
     "text": [
      "[[-2.013717]]\n"
     ]
    }
   ],
   "source": [
    "sample_text = ('The movie was not good. The animation and the graphics '\n",
    "                    'were terrible. I would not recommend this movie.')\n",
    "predictions = model.predict(np.array([sample_text]))\n",
    "print(predictions)"
   ]
  },
  {
   "cell_type": "code",
   "execution_count": 23,
   "metadata": {
    "execution": {
     "iopub.execute_input": "2020-11-17T10:13:15.864352Z",
     "iopub.status.busy": "2020-11-17T10:13:15.863283Z",
     "iopub.status.idle": "2020-11-17T10:13:15.913982Z",
     "shell.execute_reply": "2020-11-17T10:13:15.913374Z"
    },
    "papermill": {
     "duration": 3.365644,
     "end_time": "2020-11-17T10:13:15.914107",
     "exception": false,
     "start_time": "2020-11-17T10:13:12.548463",
     "status": "completed"
    },
    "tags": []
   },
   "outputs": [
    {
     "data": {
      "text/plain": [
       "array([[0.49728838]], dtype=float32)"
      ]
     },
     "execution_count": 23,
     "metadata": {},
     "output_type": "execute_result"
    }
   ],
   "source": [
    "sample_text = ('The movie was cool. The animation and the graphics '\n",
    "               'were out of this world. I would recommend this movie.')\n",
    "predictions = model.predict(np.array([sample_text]))\n",
    "predictions"
   ]
  },
  {
   "cell_type": "markdown",
   "metadata": {
    "papermill": {
     "duration": 3.806598,
     "end_time": "2020-11-17T10:13:23.356787",
     "exception": false,
     "start_time": "2020-11-17T10:13:19.550189",
     "status": "completed"
    },
    "tags": []
   },
   "source": [
    "The model acctually did not improve much the performance. One "
   ]
  },
  {
   "cell_type": "code",
   "execution_count": null,
   "metadata": {
    "papermill": {
     "duration": 3.766024,
     "end_time": "2020-11-17T10:13:30.730749",
     "exception": false,
     "start_time": "2020-11-17T10:13:26.964725",
     "status": "completed"
    },
    "tags": []
   },
   "outputs": [],
   "source": []
  }
 ],
 "metadata": {
  "kernelspec": {
   "display_name": "Python 3",
   "language": "python",
   "name": "python3"
  },
  "language_info": {
   "codemirror_mode": {
    "name": "ipython",
    "version": 3
   },
   "file_extension": ".py",
   "mimetype": "text/x-python",
   "name": "python",
   "nbconvert_exporter": "python",
   "pygments_lexer": "ipython3",
   "version": "3.7.6"
  },
  "papermill": {
   "duration": 1302.175756,
   "end_time": "2020-11-17T10:13:35.978323",
   "environment_variables": {},
   "exception": null,
   "input_path": "__notebook__.ipynb",
   "output_path": "__notebook__.ipynb",
   "parameters": {},
   "start_time": "2020-11-17T09:51:53.802567",
   "version": "2.1.0"
  }
 },
 "nbformat": 4,
 "nbformat_minor": 4
}
