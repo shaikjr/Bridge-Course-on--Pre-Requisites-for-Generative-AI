{
 "cells": [
  {
   "cell_type": "code",
   "execution_count": null,
   "id": "16e64bfa-6b62-4c25-9e6b-0c1b4c79ae21",
   "metadata": {},
   "outputs": [],
   "source": [
    "#SESSION 1"
   ]
  },
  {
   "cell_type": "code",
   "execution_count": 258,
   "id": "e95726c8-a0a4-4a54-bcfd-71f992a25275",
   "metadata": {},
   "outputs": [
    {
     "name": "stdout",
     "output_type": "stream",
     "text": [
      "[1, 2, 3, 4, 5, 6, 7, 8, 9]\n"
     ]
    }
   ],
   "source": [
    "#without duplicates\n",
    "list1=[1,2,3,4,5]\n",
    "list2=[6,7,8,9]\n",
    "list1.extend(list2)\n",
    "print(list1)"
   ]
  },
  {
   "cell_type": "code",
   "execution_count": 259,
   "id": "22ec51c3-0a5b-49a5-9d64-10a227a41be6",
   "metadata": {},
   "outputs": [
    {
     "name": "stdout",
     "output_type": "stream",
     "text": [
      "[1, 2, 3, 4, 5, 6, 7, 8, 9, 6, 7, 8, 9]\n"
     ]
    }
   ],
   "source": [
    "#with duplicates\n",
    "mynewlist=list1+list2\n",
    "print(mynewlist)"
   ]
  },
  {
   "cell_type": "code",
   "execution_count": 260,
   "id": "b3307bc4-f710-4889-91d9-9b7d951a7457",
   "metadata": {},
   "outputs": [
    {
     "name": "stdout",
     "output_type": "stream",
     "text": [
      "[1000, 2000, 2, 3, 4, 5, 6, 7, 8, 9, 6, 7, 8, 9]\n"
     ]
    }
   ],
   "source": [
    "#slicing\n",
    "mynewlist[0:1]=[1000,2000]\n",
    "print(mynewlist)"
   ]
  },
  {
   "cell_type": "code",
   "execution_count": 261,
   "id": "13a9d23b-c387-4449-85fa-c83a2a554791",
   "metadata": {},
   "outputs": [
    {
     "name": "stdout",
     "output_type": "stream",
     "text": [
      "[1, 2, 3, 5, 6]\n"
     ]
    }
   ],
   "source": [
    "#deleting an element\n",
    "list1=[1,2,3,4,5,6]\n",
    "list1.remove(4)\n",
    "print(list1)"
   ]
  },
  {
   "cell_type": "code",
   "execution_count": 262,
   "id": "3a5ff80b-0ca9-441e-8f45-0ff0833410c5",
   "metadata": {},
   "outputs": [
    {
     "name": "stdout",
     "output_type": "stream",
     "text": [
      "[1, 2, 3, 4, 6]\n"
     ]
    }
   ],
   "source": [
    "#indexing\n",
    "list1=[1,2,3,4,5,6]\n",
    "list1.remove(list1[4])\n",
    "print(list1)"
   ]
  },
  {
   "cell_type": "code",
   "execution_count": 263,
   "id": "81cbffa6-7284-4fab-a72a-7dba28e14733",
   "metadata": {},
   "outputs": [
    {
     "name": "stdout",
     "output_type": "stream",
     "text": [
      "[2, 3, 4, 6]\n"
     ]
    }
   ],
   "source": [
    "#indexing\n",
    "del list1[0]\n",
    "print(list1)"
   ]
  },
  {
   "cell_type": "code",
   "execution_count": 264,
   "id": "e391cd7c-ec14-4340-9a1b-0245f6b3972b",
   "metadata": {},
   "outputs": [
    {
     "name": "stdout",
     "output_type": "stream",
     "text": [
      "[1, 2, 3, 4, 5]\n",
      "6\n"
     ]
    }
   ],
   "source": [
    "#pop\n",
    "list1=[1,2,3,4,5,6]\n",
    "delelement=list1.pop()\n",
    "print(list1)\n",
    "print(delelement)"
   ]
  },
  {
   "cell_type": "code",
   "execution_count": 265,
   "id": "e849dc52-f08c-44d9-8cdb-a28515c5e444",
   "metadata": {},
   "outputs": [
    {
     "name": "stdout",
     "output_type": "stream",
     "text": [
      "[1, 2, 3, 4, 5]\n",
      "[]\n"
     ]
    }
   ],
   "source": [
    "print(list1)\n",
    "list1.clear()\n",
    "print(list1)"
   ]
  },
  {
   "cell_type": "code",
   "execution_count": 266,
   "id": "7fb7be2c-dca2-4539-b5bb-6852f5d9c334",
   "metadata": {},
   "outputs": [
    {
     "name": "stdout",
     "output_type": "stream",
     "text": [
      "[1, 2, 3, 4, 5, 6]\n",
      "[6, 5, 4, 3, 2, 1]\n"
     ]
    }
   ],
   "source": [
    "#reversing the list\n",
    "list1=[1,2,3,4,5,6]\n",
    "print(list1)\n",
    "list1.reverse()\n",
    "print(list1)"
   ]
  },
  {
   "cell_type": "code",
   "execution_count": 267,
   "id": "e1ef746a-7bc1-438b-a855-8417c33b64d7",
   "metadata": {},
   "outputs": [
    {
     "name": "stdout",
     "output_type": "stream",
     "text": [
      "[1, 2, 3, 4, 5]\n",
      "[1, 2, 3, 4, 5]\n"
     ]
    }
   ],
   "source": [
    "#list is mutable\n",
    "#list can be editable , delete, we can create list in list\n",
    "#we need to very carefull when we copying it\n",
    "list1=[1,2,3,4,5]\n",
    "list2=list1\n",
    "print(list1)\n",
    "print(list2)"
   ]
  },
  {
   "cell_type": "code",
   "execution_count": 268,
   "id": "9a9b55e1-6165-4e89-ab93-fd667743d447",
   "metadata": {},
   "outputs": [
    {
     "name": "stdout",
     "output_type": "stream",
     "text": [
      "[1, 2, 3, 4, 5, 1000]\n"
     ]
    }
   ],
   "source": [
    "list2.append(1000)\n",
    "print(list2)"
   ]
  },
  {
   "cell_type": "code",
   "execution_count": 269,
   "id": "de92960b-a11a-4992-a6ba-cd6510345697",
   "metadata": {},
   "outputs": [
    {
     "name": "stdout",
     "output_type": "stream",
     "text": [
      "[1, 2, 3, 4, 5, 1000]\n"
     ]
    }
   ],
   "source": [
    "print(list1)"
   ]
  },
  {
   "cell_type": "code",
   "execution_count": 270,
   "id": "47cf3e22-856d-4a18-80ca-1cf9d6a88074",
   "metadata": {},
   "outputs": [
    {
     "name": "stdout",
     "output_type": "stream",
     "text": [
      "[1, 2, 3, 4, 5]\n"
     ]
    }
   ],
   "source": [
    "list1=[1,2,3,4,5]\n",
    "print(list1)"
   ]
  },
  {
   "cell_type": "code",
   "execution_count": 271,
   "id": "cbf598e5-bdf7-4935-ae06-3b3320574091",
   "metadata": {},
   "outputs": [
    {
     "name": "stdout",
     "output_type": "stream",
     "text": [
      "[1, 2, 3, 4, 5]\n"
     ]
    }
   ],
   "source": [
    "#copy\n",
    "list2=list1.copy()\n",
    "print(list2)"
   ]
  },
  {
   "cell_type": "code",
   "execution_count": 272,
   "id": "4cd60814-52bb-4f6c-9e91-08a72c96a232",
   "metadata": {},
   "outputs": [],
   "source": [
    "list2.append(1000)"
   ]
  },
  {
   "cell_type": "code",
   "execution_count": 273,
   "id": "ce71acb7-3809-4b76-8f03-986480ca6447",
   "metadata": {},
   "outputs": [
    {
     "name": "stdout",
     "output_type": "stream",
     "text": [
      "[1, 2, 3, 4, 5, 1000]\n"
     ]
    }
   ],
   "source": [
    "print(list2)"
   ]
  },
  {
   "cell_type": "code",
   "execution_count": 274,
   "id": "758cc549-8366-4f3b-bb55-3b38080d717e",
   "metadata": {},
   "outputs": [
    {
     "name": "stdout",
     "output_type": "stream",
     "text": [
      "[1, 2, 3, 4, 5]\n"
     ]
    }
   ],
   "source": [
    "print(list1)"
   ]
  },
  {
   "cell_type": "code",
   "execution_count": 275,
   "id": "2724d2fb-cb31-4770-82f1-eccfef2e7b15",
   "metadata": {},
   "outputs": [
    {
     "name": "stdout",
     "output_type": "stream",
     "text": [
      "[12, 70, 90, 79, 14, 66, 39, 8, 54, 41]\n"
     ]
    }
   ],
   "source": [
    "#sort(sorting the list)\n",
    "import random\n",
    "list1=[random.randint(1,100) for _ in range(10)]\n",
    "print(list1)"
   ]
  },
  {
   "cell_type": "code",
   "execution_count": 276,
   "id": "6fc80980-e1e5-4d98-bd82-c870f947f856",
   "metadata": {},
   "outputs": [
    {
     "name": "stdout",
     "output_type": "stream",
     "text": [
      "[8, 12, 14, 39, 41, 54, 66, 70, 79, 90]\n"
     ]
    }
   ],
   "source": [
    "list1.sort()\n",
    "print(list1)"
   ]
  },
  {
   "cell_type": "code",
   "execution_count": 277,
   "id": "c9a50ac4-cdb0-4817-9607-cf3c544c0f1f",
   "metadata": {},
   "outputs": [
    {
     "name": "stdout",
     "output_type": "stream",
     "text": [
      "[8, 12, 14, 39, 41, 54, 66, 70, 79, 90]\n"
     ]
    }
   ],
   "source": [
    "#sort\n",
    "list1.sort()\n",
    "print(list1)\n"
   ]
  },
  {
   "cell_type": "code",
   "execution_count": 278,
   "id": "7d012a95-bca3-4599-bab0-a2c48b4b4385",
   "metadata": {},
   "outputs": [
    {
     "name": "stdout",
     "output_type": "stream",
     "text": [
      "[46, 52, 20, 52, 97, 54, 13, 69, 60, 48]\n"
     ]
    }
   ],
   "source": [
    "#sorted\n",
    "list1=[random.randint(1,100) for _ in range(10)]\n",
    "print(list1)"
   ]
  },
  {
   "cell_type": "code",
   "execution_count": 279,
   "id": "8778fbb2-047e-4d0c-a745-003aec876701",
   "metadata": {},
   "outputs": [
    {
     "name": "stdout",
     "output_type": "stream",
     "text": [
      "[46, 52, 20, 52, 97, 54, 13, 69, 60, 48]\n"
     ]
    }
   ],
   "source": [
    "print(list1)"
   ]
  },
  {
   "cell_type": "code",
   "execution_count": 280,
   "id": "dbd3ad50-23fc-4c7f-9fc9-35e8b88fc099",
   "metadata": {},
   "outputs": [
    {
     "name": "stdout",
     "output_type": "stream",
     "text": [
      "<class 'tuple'>\n",
      "(1, 2, 3, 4, 'shaik', '123')\n"
     ]
    }
   ],
   "source": [
    "#tuples\n",
    "myemptuple=(1,2,3,4,\"shaik\",('123'))\n",
    "print(type(myemptuple))\n",
    "print(myemptuple)"
   ]
  },
  {
   "cell_type": "code",
   "execution_count": 281,
   "id": "288a77bc-654d-4663-86d7-ed7d2b094c84",
   "metadata": {},
   "outputs": [
    {
     "name": "stdout",
     "output_type": "stream",
     "text": [
      "(1,)\n"
     ]
    }
   ],
   "source": [
    "mytuplewithcon = tuple((1,))\n",
    "print(mytuplewithcon)"
   ]
  },
  {
   "cell_type": "code",
   "execution_count": 282,
   "id": "904237dc-b265-4cac-a867-aaa0a3165268",
   "metadata": {},
   "outputs": [
    {
     "name": "stdout",
     "output_type": "stream",
     "text": [
      "(1, 2, 3, 4, 5, 6)\n"
     ]
    }
   ],
   "source": [
    "#tuple with list\n",
    "list1 = [1,2,3,4,5,6]\n",
    "mynewtuple=tuple(list1)\n",
    "print(mynewtuple)"
   ]
  },
  {
   "cell_type": "code",
   "execution_count": 283,
   "id": "f2b1d7df-103a-4351-9558-c3e895b51fc2",
   "metadata": {},
   "outputs": [
    {
     "name": "stdout",
     "output_type": "stream",
     "text": [
      "(1, 2, 3, 4, 5, 6, 7, 8, 9, 10, 11, 12, 13, 14, 15, 16, 17, 18, 19, 20, 21, 22, 23, 24, 25, 26, 27, 28, 29, 30, 31, 32, 33, 34, 35, 36, 37, 38, 39, 40, 41, 42, 43, 44, 45, 46, 47, 48, 49)\n"
     ]
    }
   ],
   "source": [
    "list1 = tuple(range(1,50))\n",
    "print(list1)"
   ]
  },
  {
   "cell_type": "code",
   "execution_count": 284,
   "id": "458765c7-8f3d-47a5-b5cf-1e1cc28fdea0",
   "metadata": {},
   "outputs": [
    {
     "data": {
      "text/plain": [
       "(6, 7, 8, 9, 10)"
      ]
     },
     "execution_count": 284,
     "metadata": {},
     "output_type": "execute_result"
    }
   ],
   "source": [
    "list1[5:10]"
   ]
  },
  {
   "cell_type": "code",
   "execution_count": 285,
   "id": "caa93290-353b-4199-8b96-fc0eb542f471",
   "metadata": {},
   "outputs": [
    {
     "name": "stdout",
     "output_type": "stream",
     "text": [
      "index:0 and value:1\n",
      "index:1 and value:2\n",
      "index:2 and value:3\n",
      "index:3 and value:4\n",
      "index:4 and value:5\n",
      "index:5 and value:6\n",
      "index:6 and value:7\n",
      "index:7 and value:8\n",
      "index:8 and value:9\n",
      "index:9 and value:10\n",
      "index:10 and value:11\n",
      "index:11 and value:12\n",
      "index:12 and value:13\n",
      "index:13 and value:14\n",
      "index:14 and value:15\n",
      "index:15 and value:16\n",
      "index:16 and value:17\n",
      "index:17 and value:18\n",
      "index:18 and value:19\n",
      "index:19 and value:20\n",
      "index:20 and value:21\n",
      "index:21 and value:22\n",
      "index:22 and value:23\n",
      "index:23 and value:24\n",
      "index:24 and value:25\n",
      "index:25 and value:26\n",
      "index:26 and value:27\n",
      "index:27 and value:28\n",
      "index:28 and value:29\n",
      "index:29 and value:30\n",
      "index:30 and value:31\n",
      "index:31 and value:32\n",
      "index:32 and value:33\n",
      "index:33 and value:34\n",
      "index:34 and value:35\n",
      "index:35 and value:36\n",
      "index:36 and value:37\n",
      "index:37 and value:38\n",
      "index:38 and value:39\n",
      "index:39 and value:40\n",
      "index:40 and value:41\n",
      "index:41 and value:42\n",
      "index:42 and value:43\n",
      "index:43 and value:44\n",
      "index:44 and value:45\n",
      "index:45 and value:46\n",
      "index:46 and value:47\n",
      "index:47 and value:48\n",
      "index:48 and value:49\n"
     ]
    }
   ],
   "source": [
    "for index, value in enumerate(list1):\n",
    "    print(f\"index:{index} and value:{value}\")"
   ]
  },
  {
   "cell_type": "code",
   "execution_count": 286,
   "id": "45d7b028-1803-4a2b-bba5-162de32747aa",
   "metadata": {},
   "outputs": [
    {
     "name": "stdout",
     "output_type": "stream",
     "text": [
      "{}\n"
     ]
    }
   ],
   "source": [
    "set={}\n",
    "print(set)"
   ]
  },
  {
   "cell_type": "code",
   "execution_count": 287,
   "id": "c0e0b713-2c68-49a5-b3b2-9045ee77a39a",
   "metadata": {},
   "outputs": [
    {
     "name": "stdout",
     "output_type": "stream",
     "text": [
      "{1, 2, 3}\n"
     ]
    }
   ],
   "source": [
    "#no duplicates in set\n",
    "set1={1,2,3,1,2}\n",
    "print(set1)"
   ]
  },
  {
   "cell_type": "code",
   "execution_count": 288,
   "id": "d4e52698-48a1-4f04-9475-3f9d78d42d1f",
   "metadata": {},
   "outputs": [
    {
     "name": "stdout",
     "output_type": "stream",
     "text": [
      "{1, 2, 3}\n"
     ]
    }
   ],
   "source": [
    "#we can create set inside set\n",
    "set={1,2,3}\n",
    "print(set)"
   ]
  },
  {
   "cell_type": "code",
   "execution_count": 289,
   "id": "b6d43033-b1bf-47ee-bf5a-3d3d2322c555",
   "metadata": {},
   "outputs": [
    {
     "name": "stdout",
     "output_type": "stream",
     "text": [
      "{1, 2, 3, 'shaik'}\n"
     ]
    }
   ],
   "source": [
    "#list=[],tuple=(),set={}\n",
    "set2={1,2,3,\"shaik\",True}\n",
    "print(set2)"
   ]
  },
  {
   "cell_type": "code",
   "execution_count": 290,
   "id": "d1c55058-bdf0-427d-bd41-adf47c00c3a8",
   "metadata": {},
   "outputs": [
    {
     "ename": "TypeError",
     "evalue": "'list' object is not callable",
     "output_type": "error",
     "traceback": [
      "\u001b[1;31m---------------------------------------------------------------------------\u001b[0m",
      "\u001b[1;31mTypeError\u001b[0m                                 Traceback (most recent call last)",
      "Cell \u001b[1;32mIn[290], line 2\u001b[0m\n\u001b[0;32m      1\u001b[0m \u001b[38;5;66;03m#create set from list\u001b[39;00m\n\u001b[1;32m----> 2\u001b[0m list1\u001b[38;5;241m=\u001b[39m\u001b[38;5;28;43mlist\u001b[39;49m\u001b[43m(\u001b[49m\u001b[38;5;28;43mrange\u001b[39;49m\u001b[43m(\u001b[49m\u001b[38;5;241;43m10\u001b[39;49m\u001b[43m)\u001b[49m\u001b[43m)\u001b[49m\n\u001b[0;32m      3\u001b[0m \u001b[38;5;28mprint\u001b[39m(list1)\n",
      "\u001b[1;31mTypeError\u001b[0m: 'list' object is not callable"
     ]
    }
   ],
   "source": [
    "#create set from list\n",
    "list1=list(range(10))\n",
    "print(list1)"
   ]
  },
  {
   "cell_type": "code",
   "execution_count": null,
   "id": "33ad5de7-0696-486b-b31d-295afcde0765",
   "metadata": {},
   "outputs": [],
   "source": [
    "import builtins\n",
    "set = builtins.set"
   ]
  },
  {
   "cell_type": "code",
   "execution_count": null,
   "id": "e057eaae-61b3-4164-9106-48b39e48871a",
   "metadata": {},
   "outputs": [],
   "source": [
    "myset = set(list1)\n",
    "print(myset)"
   ]
  },
  {
   "cell_type": "code",
   "execution_count": null,
   "id": "a6b2b620-0139-41e3-ac78-bf3c8d4c496e",
   "metadata": {},
   "outputs": [],
   "source": [
    "set1={1,2,3,4,5}\n",
    "set2={4,5,6,7}\n",
    "set1.update(set2)\n",
    "print(set1)"
   ]
  },
  {
   "cell_type": "code",
   "execution_count": 291,
   "id": "38ac2e1d-62c2-4d2f-ad29-9d4d7de52b44",
   "metadata": {},
   "outputs": [
    {
     "ename": "KeyError",
     "evalue": "7",
     "output_type": "error",
     "traceback": [
      "\u001b[1;31m---------------------------------------------------------------------------\u001b[0m",
      "\u001b[1;31mKeyError\u001b[0m                                  Traceback (most recent call last)",
      "Cell \u001b[1;32mIn[291], line 1\u001b[0m\n\u001b[1;32m----> 1\u001b[0m \u001b[43mset1\u001b[49m\u001b[38;5;241;43m.\u001b[39;49m\u001b[43mremove\u001b[49m\u001b[43m(\u001b[49m\u001b[38;5;241;43m7\u001b[39;49m\u001b[43m)\u001b[49m\n\u001b[0;32m      2\u001b[0m \u001b[38;5;28mprint\u001b[39m(set1)\n",
      "\u001b[1;31mKeyError\u001b[0m: 7"
     ]
    }
   ],
   "source": [
    "set1.remove(7)\n",
    "print(set1)"
   ]
  },
  {
   "cell_type": "code",
   "execution_count": 292,
   "id": "4c7356da-298b-4bd1-a6cc-136dc1157f55",
   "metadata": {},
   "outputs": [
    {
     "name": "stdout",
     "output_type": "stream",
     "text": [
      "{10, 1, 2, 3}\n"
     ]
    }
   ],
   "source": [
    "set1.add(10)\n",
    "print(set1)"
   ]
  },
  {
   "cell_type": "code",
   "execution_count": 293,
   "id": "60955152-450e-4f88-9b45-c4d53e19c97f",
   "metadata": {},
   "outputs": [
    {
     "name": "stdout",
     "output_type": "stream",
     "text": [
      "{1, 2, 3}\n"
     ]
    }
   ],
   "source": [
    "set1.discard(10)\n",
    "print(set1)"
   ]
  },
  {
   "cell_type": "code",
   "execution_count": 294,
   "id": "4e6099dc-4297-4480-bc3e-436b041c1007",
   "metadata": {},
   "outputs": [
    {
     "name": "stdout",
     "output_type": "stream",
     "text": [
      "{1, 2, 3}\n"
     ]
    }
   ],
   "source": [
    "set1.clear()\n",
    "print(set)"
   ]
  },
  {
   "cell_type": "code",
   "execution_count": 295,
   "id": "fed7e2ce-6359-4f33-b2e2-5991306fdae6",
   "metadata": {},
   "outputs": [],
   "source": [
    "del set1"
   ]
  },
  {
   "cell_type": "code",
   "execution_count": 296,
   "id": "e7a66285-77ab-4de9-9a14-a7656fe0959d",
   "metadata": {},
   "outputs": [
    {
     "ename": "NameError",
     "evalue": "name 'set1' is not defined",
     "output_type": "error",
     "traceback": [
      "\u001b[1;31m---------------------------------------------------------------------------\u001b[0m",
      "\u001b[1;31mNameError\u001b[0m                                 Traceback (most recent call last)",
      "Cell \u001b[1;32mIn[296], line 1\u001b[0m\n\u001b[1;32m----> 1\u001b[0m \u001b[38;5;28mprint\u001b[39m(\u001b[43mset1\u001b[49m)\n",
      "\u001b[1;31mNameError\u001b[0m: name 'set1' is not defined"
     ]
    }
   ],
   "source": [
    "print(set1)"
   ]
  },
  {
   "cell_type": "code",
   "execution_count": null,
   "id": "b9fe9992-b47e-44f6-86de-4d65a4371b90",
   "metadata": {},
   "outputs": [],
   "source": [
    "set1={1,2,3,4,5}\n",
    "set2={6,7,8,9}\n",
    "set3=set2.intersection(set2)\n",
    "print(set3)"
   ]
  },
  {
   "cell_type": "code",
   "execution_count": null,
   "id": "bb2094e3-f6ce-46c1-8ddd-39446ac7272e",
   "metadata": {},
   "outputs": [],
   "source": [
    "set1={1,2,3,4,5}\n",
    "set2={6,7,8,9}\n",
    "set3=set2.union(set2)\n",
    "print(set3)"
   ]
  },
  {
   "cell_type": "code",
   "execution_count": 297,
   "id": "c2e38301-0aeb-4b71-8a6d-b906796c48e9",
   "metadata": {},
   "outputs": [],
   "source": [
    "dict={}"
   ]
  },
  {
   "cell_type": "code",
   "execution_count": 298,
   "id": "51ca345c-a584-4c67-b49b-52cbe14156c7",
   "metadata": {},
   "outputs": [
    {
     "name": "stdout",
     "output_type": "stream",
     "text": [
      "{}\n"
     ]
    }
   ],
   "source": [
    "print(dict)"
   ]
  },
  {
   "cell_type": "code",
   "execution_count": 299,
   "id": "26b13fea-1416-4440-95c6-fbf33f194a05",
   "metadata": {},
   "outputs": [
    {
     "name": "stdout",
     "output_type": "stream",
     "text": [
      "{'name': 'shaik mahaboob', 'roll': '20211cei0142', 'age': '21'}\n"
     ]
    }
   ],
   "source": [
    "dict1={'name':'shaik mahaboob',\n",
    "       'roll':'20211cei0142',\n",
    "       'age':'21'}\n",
    "print(dict1)"
   ]
  },
  {
   "cell_type": "code",
   "execution_count": 300,
   "id": "0e628abe-d216-435d-9d69-6e9718695376",
   "metadata": {},
   "outputs": [],
   "source": [
    "pavanmarks={1:20,2:30,3:40}\n",
    "santhomarks={4:20,5:30,6:40}\n",
    "pavanmarks.update(santhomarks)\n"
   ]
  },
  {
   "cell_type": "code",
   "execution_count": 301,
   "id": "6ac23c43-5a3a-4676-a14c-7c1d0cb18b06",
   "metadata": {},
   "outputs": [
    {
     "data": {
      "text/plain": [
       "{1: 20, 2: 30, 3: 40, 4: 20, 5: 30, 6: 40}"
      ]
     },
     "execution_count": 301,
     "metadata": {},
     "output_type": "execute_result"
    }
   ],
   "source": [
    "pavanmarks"
   ]
  },
  {
   "cell_type": "code",
   "execution_count": 302,
   "id": "b6289a8f-6a3f-4087-9eaf-a0d8e770068b",
   "metadata": {},
   "outputs": [],
   "source": [
    "dict1.update(marks=100)"
   ]
  },
  {
   "cell_type": "code",
   "execution_count": 303,
   "id": "1d9e4199-bf50-410c-9e74-53c60477a3ce",
   "metadata": {},
   "outputs": [
    {
     "name": "stdout",
     "output_type": "stream",
     "text": [
      "{'name': 'shaik mahaboob', 'roll': '20211cei0142', 'age': '21', 'marks': 100}\n"
     ]
    }
   ],
   "source": [
    "print(dict1)"
   ]
  },
  {
   "cell_type": "code",
   "execution_count": 304,
   "id": "012d2898-1030-404d-81f4-6a5ca6c1ccb1",
   "metadata": {},
   "outputs": [
    {
     "data": {
      "text/plain": [
       "'shaik mahaboob'"
      ]
     },
     "execution_count": 304,
     "metadata": {},
     "output_type": "execute_result"
    }
   ],
   "source": [
    "dict1.pop('name')"
   ]
  },
  {
   "cell_type": "code",
   "execution_count": 305,
   "id": "967f63be-8908-4a40-9fc9-0001f04d86eb",
   "metadata": {},
   "outputs": [
    {
     "data": {
      "text/plain": [
       "{}"
      ]
     },
     "execution_count": 305,
     "metadata": {},
     "output_type": "execute_result"
    }
   ],
   "source": [
    "dict1.clear()\n",
    "dict1"
   ]
  },
  {
   "cell_type": "code",
   "execution_count": 306,
   "id": "66cd0de3-0db1-4afc-afc1-268a31fbdaf5",
   "metadata": {},
   "outputs": [
    {
     "name": "stdin",
     "output_type": "stream",
     "text": [
      "Size:  3\n"
     ]
    },
    {
     "name": "stdout",
     "output_type": "stream",
     "text": [
      "1.PUSH 2.POP 3.DISPLAY 4.EXIT\n"
     ]
    },
    {
     "name": "stdin",
     "output_type": "stream",
     "text": [
      "What is your choice:  4\n"
     ]
    },
    {
     "name": "stdout",
     "output_type": "stream",
     "text": [
      "Exiting...\n"
     ]
    }
   ],
   "source": [
    "#implementation of stack\n",
    "\n",
    "stack = []\n",
    "maxsize = int(input(\"Size: \"))\n",
    "ch=0\n",
    "while ch != 4:\n",
    "    print(\"1.PUSH 2.POP 3.DISPLAY 4.EXIT\")\n",
    "    ch = int(input(\"What is your choice: \"))\n",
    "    \n",
    "    if ch == 1:\n",
    "        if len(stack) < maxsize:  \n",
    "            element = int(input(\"Element: \"))\n",
    "            stack.append(element)\n",
    "        else:\n",
    "            print(\"OVERFLOW\")\n",
    "    \n",
    "    elif ch == 2:\n",
    "        if len(stack) == 0:\n",
    "            print(\"UNDERFLOW\")\n",
    "        else:\n",
    "            stack.pop()\n",
    "    \n",
    "    elif ch == 3:\n",
    "        if len(stack) == 0:\n",
    "            print(\"No elements\")\n",
    "        else:\n",
    "            for i in stack:\n",
    "                print(i, end=\"->\")\n",
    "            print() \n",
    "    \n",
    "    elif ch == 4:\n",
    "        print(\"Exiting...\")\n",
    "    \n",
    "    else:\n",
    "        print(\"Invalid choice. Please choose a valid option.\")\n"
   ]
  },
  {
   "cell_type": "code",
   "execution_count": 307,
   "id": "80ffbf47-3f83-48f6-acf8-46eeb86e4882",
   "metadata": {},
   "outputs": [
    {
     "name": "stdin",
     "output_type": "stream",
     "text": [
      "Size:  3\n"
     ]
    },
    {
     "name": "stdout",
     "output_type": "stream",
     "text": [
      "1.enquee 2.dequee 3.DISPLAY 4.EXIT\n"
     ]
    },
    {
     "name": "stdin",
     "output_type": "stream",
     "text": [
      "What is your choice:  4\n"
     ]
    },
    {
     "name": "stdout",
     "output_type": "stream",
     "text": [
      "Exiting...\n"
     ]
    }
   ],
   "source": [
    "#implementation of queue\n",
    "\n",
    "queue = []\n",
    "maxsize = int(input(\"Size: \"))\n",
    "ch=0\n",
    "while ch != 4:\n",
    "    print(\"1.enquee 2.dequee 3.DISPLAY 4.EXIT\")\n",
    "    ch = int(input(\"What is your choice: \"))\n",
    "    \n",
    "    if ch == 1:\n",
    "        if len(queue) < maxsize:  \n",
    "            element = int(input(\"Element: \"))\n",
    "            queue.append(element)\n",
    "        else:\n",
    "            print(\"OVERFLOW\")\n",
    "    \n",
    "    elif ch == 2:\n",
    "        if len(queue) == 0:\n",
    "            print(\"UNDERFLOW\")\n",
    "        else:\n",
    "            queue.pop()\n",
    "    \n",
    "    elif ch == 3:\n",
    "        if len(queue) == 0:\n",
    "            print(\"No elements\")\n",
    "        else:\n",
    "            for i in queue:\n",
    "                print(i, end=\"->\")\n",
    "            print() \n",
    "    \n",
    "    elif ch == 4:\n",
    "        print(\"Exiting...\")\n",
    "    \n",
    "    else:\n",
    "        print(\"Invalid choice. Please choose a valid option.\")\n"
   ]
  },
  {
   "cell_type": "code",
   "execution_count": 308,
   "id": "66741408-93f3-454a-b2db-4d4a1c337c88",
   "metadata": {},
   "outputs": [
    {
     "name": "stdout",
     "output_type": "stream",
     "text": [
      "[51, 49, 83, 39, 48, 1, 20, 27, 25, 70]\n"
     ]
    }
   ],
   "source": [
    "#heap\n",
    "import random\n",
    "import heapq\n",
    "nodelist=[random.randint(1,100) for _ in range(10)]\n",
    "print(nodelist)"
   ]
  },
  {
   "cell_type": "code",
   "execution_count": 309,
   "id": "e0737c36-e50d-41f2-afb3-c98ee7836fa5",
   "metadata": {},
   "outputs": [
    {
     "name": "stdout",
     "output_type": "stream",
     "text": [
      "[1, 25, 20, 27, 48, 83, 51, 49, 39, 70]\n"
     ]
    }
   ],
   "source": [
    "#construct heap using random numbers\n",
    "heapq.heapify(nodelist)\n",
    "print(nodelist)"
   ]
  },
  {
   "cell_type": "code",
   "execution_count": 310,
   "id": "b2f3d807-96d4-4c8d-a05c-63c144ca1682",
   "metadata": {},
   "outputs": [],
   "source": [
    "def displaytree(nodelist):\n",
    "    sindex=0\n",
    "    nodesperlevel=1\n",
    "    while sindex< len(nodelist):\n",
    "        eindex=sindex+nodesperlevel\n",
    "        print(nodelist[sindex:eindex])\n",
    "        sindex=eindex\n",
    "        nodesperlevel*=2"
   ]
  },
  {
   "cell_type": "code",
   "execution_count": 311,
   "id": "b7fd011a-6a5b-4857-9b65-9038d6d6f664",
   "metadata": {},
   "outputs": [
    {
     "name": "stdout",
     "output_type": "stream",
     "text": [
      "[1]\n",
      "[25, 20]\n",
      "[27, 48, 83, 51]\n",
      "[49, 39, 70]\n"
     ]
    }
   ],
   "source": [
    "displaytree(nodelist)"
   ]
  },
  {
   "cell_type": "code",
   "execution_count": null,
   "id": "926e90d1-22b4-4c94-8dd0-8f62d47a7cc4",
   "metadata": {},
   "outputs": [],
   "source": []
  },
  {
   "cell_type": "code",
   "execution_count": 312,
   "id": "985a3a6c-f112-475c-9f5a-c3478142bba7",
   "metadata": {},
   "outputs": [
    {
     "name": "stdout",
     "output_type": "stream",
     "text": [
      "[20]\n",
      "[25, 51]\n",
      "[27, 48, 83, 70]\n",
      "[49, 39]\n"
     ]
    }
   ],
   "source": [
    "#remove the element\n",
    "heapq.heappop(nodelist)\n",
    "displaytree(nodelist)"
   ]
  },
  {
   "cell_type": "code",
   "execution_count": 313,
   "id": "e0782662-2fc2-42d4-801f-cfcf70ec6526",
   "metadata": {},
   "outputs": [
    {
     "name": "stdout",
     "output_type": "stream",
     "text": [
      "[20]\n",
      "[20, 51]\n",
      "[27, 25, 83, 70]\n",
      "[49, 39, 48]\n"
     ]
    }
   ],
   "source": [
    "#adding an element\n",
    "heapq.heappush(nodelist,20)\n",
    "displaytree(nodelist)"
   ]
  },
  {
   "cell_type": "code",
   "execution_count": 314,
   "id": "5bead16e-5002-4f3a-941f-454147c08a73",
   "metadata": {},
   "outputs": [
    {
     "name": "stdout",
     "output_type": "stream",
     "text": [
      "[7]\n",
      "[20, 51]\n",
      "[27, 20, 83, 70]\n",
      "[49, 39, 48, 25]\n"
     ]
    }
   ],
   "source": [
    "#add a new node\n",
    "heapq.heappush(nodelist,7)\n",
    "displaytree(nodelist)"
   ]
  },
  {
   "cell_type": "code",
   "execution_count": 315,
   "id": "fc215e13-58b2-412e-af85-508438d118ad",
   "metadata": {},
   "outputs": [],
   "source": [
    "#RECURSION"
   ]
  },
  {
   "cell_type": "code",
   "execution_count": 316,
   "id": "2e4c2982-85ea-4aa0-a566-471835b3d021",
   "metadata": {},
   "outputs": [
    {
     "name": "stdout",
     "output_type": "stream",
     "text": [
      "6\n"
     ]
    }
   ],
   "source": [
    "#5=5*4*3*2*1\n",
    "#n=5\n",
    "#=5*4 = n*fact(n-1)\n",
    "def genfact(n):\n",
    "    #base\n",
    "    if n==0 or n==1:\n",
    "        return 1\n",
    "    #other\n",
    "    else:\n",
    "        return n* genfact(n-1)\n",
    "print(genfact(3))"
   ]
  },
  {
   "cell_type": "code",
   "execution_count": 317,
   "id": "fdd15b32-16ac-456a-8de7-3185e6e45d27",
   "metadata": {
    "scrolled": true
   },
   "outputs": [
    {
     "name": "stdout",
     "output_type": "stream",
     "text": [
      "0\n",
      "1\n",
      "1\n",
      "2\n",
      "3\n",
      "5\n"
     ]
    }
   ],
   "source": [
    "#n1=0 n2=1 n3=n1+n2 n2=n3 n1=n2\n",
    "\n",
    "firstnum = 0\n",
    "seconnum = 1\n",
    "print(firstnum)\n",
    "print(seconnum)\n",
    "def genfib(firstnum,seconnum,number):\n",
    "    thirdnum=firstnum+seconnum\n",
    "    if thirdnum>5:\n",
    "        return\n",
    "    else:\n",
    "        print(thirdnum)\n",
    "        genfib(seconnum,thirdnum,number)\n",
    "\n",
    "genfib(firstnum,seconnum,5)"
   ]
  },
  {
   "cell_type": "code",
   "execution_count": 318,
   "id": "fa11d73e-d9f0-49fa-8d7f-ea6f98c53e57",
   "metadata": {},
   "outputs": [
    {
     "name": "stdout",
     "output_type": "stream",
     "text": [
      "Requirement already satisfied: sorting in c:\\python2\\python311\\lib\\site-packages (1.0.3)\n"
     ]
    },
    {
     "name": "stderr",
     "output_type": "stream",
     "text": [
      "\n",
      "[notice] A new release of pip is available: 24.0 -> 24.1.1\n",
      "[notice] To update, run: python.exe -m pip install --upgrade pip\n"
     ]
    }
   ],
   "source": [
    "#sorting\n",
    "!pip install sorting"
   ]
  },
  {
   "cell_type": "code",
   "execution_count": 319,
   "id": "4b8c2ce4-a83f-4647-8632-9e17e34ba797",
   "metadata": {},
   "outputs": [
    {
     "name": "stdout",
     "output_type": "stream",
     "text": [
      "[24, 75, 13, 39, 55, 33, 22, 89, 41, 68, 41, 79, 37, 33, 54, 19, 71, 30, 59, 46]\n"
     ]
    }
   ],
   "source": [
    "import sorting\n",
    "list=[random.randint(5,100) for _ in range(20)]\n",
    "print(list)"
   ]
  },
  {
   "cell_type": "code",
   "execution_count": 320,
   "id": "b36b4d4e-ab34-4af0-9d3a-8a75e9a145c9",
   "metadata": {},
   "outputs": [],
   "source": [
    "import time"
   ]
  },
  {
   "cell_type": "code",
   "execution_count": 321,
   "id": "241676e4-195b-4ecc-90a3-43364b7e65fb",
   "metadata": {},
   "outputs": [
    {
     "name": "stdout",
     "output_type": "stream",
     "text": [
      "0.0\n",
      "[13, 19, 22, 24, 30, 33, 33, 37, 39, 41, 41, 46, 54, 55, 59, 68, 71, 75, 79, 89]\n"
     ]
    }
   ],
   "source": [
    "start=time.time()\n",
    "res=sorting.bubble(list)\n",
    "end=time.time()\n",
    "print((end-start)*1000)\n",
    "print(res)"
   ]
  },
  {
   "cell_type": "code",
   "execution_count": 322,
   "id": "4af990f4-5e28-4d3b-8fb9-bff6c859d646",
   "metadata": {},
   "outputs": [
    {
     "name": "stdout",
     "output_type": "stream",
     "text": [
      "1.0006427764892578\n",
      "[13, 19, 22, 24, 30, 33, 33, 37, 39, 41, 41, 46, 54, 55, 59, 68, 71, 75, 79, 89]\n"
     ]
    }
   ],
   "source": [
    "start=time.time()\n",
    "res=sorting.quick(list)\n",
    "end=time.time()\n",
    "print((end-start)*1000)\n",
    "print(res)"
   ]
  },
  {
   "cell_type": "code",
   "execution_count": 323,
   "id": "e73fdefe-cd54-4b32-8d92-d105deaf182f",
   "metadata": {},
   "outputs": [
    {
     "name": "stdout",
     "output_type": "stream",
     "text": [
      "1.0590553283691406\n",
      "[13, 19, 22, 24, 30, 33, 33, 37, 39, 41, 41, 46, 54, 55, 59, 68, 71, 75, 79, 89]\n"
     ]
    }
   ],
   "source": [
    "start=time.time()\n",
    "res=sorting.merge(list)\n",
    "end=time.time()\n",
    "print((end-start)*1000)\n",
    "print(res)"
   ]
  },
  {
   "cell_type": "code",
   "execution_count": 324,
   "id": "8efb8388-9191-41a4-a5f8-50349ffa2826",
   "metadata": {},
   "outputs": [
    {
     "name": "stdout",
     "output_type": "stream",
     "text": [
      "shaik\n",
      "cse\n"
     ]
    }
   ],
   "source": [
    "#decorator\n",
    "\n",
    "def printname():\n",
    "    print('shaik')\n",
    "\n",
    "def printdep():\n",
    "    print('cse')\n",
    "printname()\n",
    "printdep()"
   ]
  },
  {
   "cell_type": "code",
   "execution_count": 325,
   "id": "1a9165ee-02bf-4aad-ab9b-e22ce06e6ded",
   "metadata": {},
   "outputs": [
    {
     "name": "stdout",
     "output_type": "stream",
     "text": [
      "********\n",
      "shaik\n",
      "********\n",
      "********\n",
      "cse\n",
      "********\n"
     ]
    }
   ],
   "source": [
    "def decoratemyfunction(function):\n",
    "    def decorate():\n",
    "        print('********')\n",
    "        function()\n",
    "        print('********')\n",
    "    return decorate()\n",
    "decoratemyfunction(printname)\n",
    "decoratemyfunction(printdep)\n"
   ]
  },
  {
   "cell_type": "code",
   "execution_count": 326,
   "id": "8ed77f9d-3a45-457c-9c5c-588ce9db5adb",
   "metadata": {},
   "outputs": [],
   "source": [
    "import time\n",
    "def calculateexecutiontime(function):\n",
    "    def wrapper(*args,**kwargs):\n",
    "        start=time.time()\n",
    "        function(*args,**kwargs)\n",
    "        end=time.time()\n",
    "        print('took',(end-start)*1000,'mili')\n",
    "    return wrapper"
   ]
  },
  {
   "cell_type": "code",
   "execution_count": 327,
   "id": "ee612696-be4f-4d71-9d3b-1ece6bdf9d6f",
   "metadata": {},
   "outputs": [],
   "source": [
    "@calculateexecutiontime\n",
    "def fun1(n):\n",
    "    for i in range(n):\n",
    "        a=0\n",
    "        \n",
    "@calculateexecutiontime\n",
    "def fun2(n):\n",
    "    for i in range(int(n/2)):\n",
    "        a=0"
   ]
  },
  {
   "cell_type": "code",
   "execution_count": 328,
   "id": "7c669cc2-cb22-4c23-b29e-50e481985396",
   "metadata": {},
   "outputs": [
    {
     "name": "stdout",
     "output_type": "stream",
     "text": [
      "took 6.962299346923828 mili\n"
     ]
    }
   ],
   "source": [
    "fun1(100000)"
   ]
  },
  {
   "cell_type": "code",
   "execution_count": 329,
   "id": "aac55784-d7ab-4135-89c3-971f84cdbe98",
   "metadata": {},
   "outputs": [
    {
     "name": "stdout",
     "output_type": "stream",
     "text": [
      "took 2.547740936279297 mili\n"
     ]
    }
   ],
   "source": [
    "fun2(100000)"
   ]
  },
  {
   "cell_type": "code",
   "execution_count": 330,
   "id": "c9fa8b83-f992-4d09-8ed6-db39c744e146",
   "metadata": {},
   "outputs": [
    {
     "name": "stdout",
     "output_type": "stream",
     "text": [
      "welcome homeshaik\n",
      "started in 2002 shaik\n"
     ]
    }
   ],
   "source": [
    "\n",
    "def homepage(user):\n",
    "    print(f\"welcome home{user}\")\n",
    "homepage('shaik')\n",
    "\n",
    "def aboutpage(user):\n",
    "    print(f\"started in 2002 {user}\")\n",
    "aboutpage('shaik')\n",
    "\n",
    "    "
   ]
  },
  {
   "cell_type": "code",
   "execution_count": 331,
   "id": "2d676098-1215-4dfb-9585-89532dc7cd87",
   "metadata": {},
   "outputs": [
    {
     "name": "stdout",
     "output_type": "stream",
     "text": [
      "welcome homeshaik\n",
      "started in 2002 shaik\n"
     ]
    }
   ],
   "source": [
    "homepage('shaik')\n",
    "aboutpage('shaik')\n"
   ]
  },
  {
   "cell_type": "code",
   "execution_count": 332,
   "id": "3adf76ab-7786-4140-806c-b333fd260351",
   "metadata": {},
   "outputs": [],
   "source": [
    "def loggedin(page):\n",
    "    def wrapper(user):\n",
    "        if user=='shaik':\n",
    "            page(user)\n",
    "        else:\n",
    "            print(\"you have to login to acces this page\")\n",
    "        return wrapper"
   ]
  },
  {
   "cell_type": "code",
   "execution_count": 333,
   "id": "2612da48-ea33-460b-9475-a72977bc47d6",
   "metadata": {},
   "outputs": [
    {
     "name": "stdout",
     "output_type": "stream",
     "text": [
      "10\n"
     ]
    }
   ],
   "source": [
    "def countdown(n):\n",
    "    while(n>0):\n",
    "        yield n\n",
    "        n-=1\n",
    "gen=countdown(10)\n",
    "print(next(gen))"
   ]
  },
  {
   "cell_type": "code",
   "execution_count": 334,
   "id": "1e02987a-4a77-4e19-8d56-b92ce782d0b7",
   "metadata": {},
   "outputs": [
    {
     "name": "stdout",
     "output_type": "stream",
     "text": [
      "9\n"
     ]
    }
   ],
   "source": [
    "print(next(gen))"
   ]
  },
  {
   "cell_type": "code",
   "execution_count": 335,
   "id": "cbf6e64b-0a45-4674-b1c5-a39430d6b239",
   "metadata": {},
   "outputs": [
    {
     "name": "stdout",
     "output_type": "stream",
     "text": [
      "8\n"
     ]
    }
   ],
   "source": [
    "print(next(gen))"
   ]
  },
  {
   "cell_type": "code",
   "execution_count": 336,
   "id": "10a04467-d447-4061-9342-fda4fc52cf20",
   "metadata": {},
   "outputs": [
    {
     "name": "stdout",
     "output_type": "stream",
     "text": [
      "7\n"
     ]
    }
   ],
   "source": [
    "print(next(gen))"
   ]
  },
  {
   "cell_type": "code",
   "execution_count": 337,
   "id": "70b56f57-a523-45d3-bc9e-15be296715cd",
   "metadata": {},
   "outputs": [
    {
     "name": "stdout",
     "output_type": "stream",
     "text": [
      "6\n"
     ]
    }
   ],
   "source": [
    "print(next(gen))"
   ]
  },
  {
   "cell_type": "code",
   "execution_count": 338,
   "id": "092fbe3f-7653-45fc-a373-f036ddf7a592",
   "metadata": {},
   "outputs": [
    {
     "name": "stdout",
     "output_type": "stream",
     "text": [
      "5\n",
      "4\n",
      "3\n"
     ]
    }
   ],
   "source": [
    "print(next(gen))\n",
    "print(next(gen))\n",
    "print(next(gen))"
   ]
  },
  {
   "cell_type": "code",
   "execution_count": 339,
   "id": "1c3a1b01-0c8d-415d-b08b-8373e1669de4",
   "metadata": {},
   "outputs": [
    {
     "name": "stdout",
     "output_type": "stream",
     "text": [
      "2\n",
      "1\n"
     ]
    }
   ],
   "source": [
    "print(next(gen))\n",
    "print(next(gen))"
   ]
  },
  {
   "cell_type": "code",
   "execution_count": 340,
   "id": "4b44d621-a20d-442a-975a-1d1ed048c7e3",
   "metadata": {},
   "outputs": [
    {
     "ename": "StopIteration",
     "evalue": "",
     "output_type": "error",
     "traceback": [
      "\u001b[1;31m---------------------------------------------------------------------------\u001b[0m",
      "\u001b[1;31mStopIteration\u001b[0m                             Traceback (most recent call last)",
      "Cell \u001b[1;32mIn[340], line 1\u001b[0m\n\u001b[1;32m----> 1\u001b[0m \u001b[38;5;28mprint\u001b[39m(\u001b[38;5;28;43mnext\u001b[39;49m\u001b[43m(\u001b[49m\u001b[43mgen\u001b[49m\u001b[43m)\u001b[49m)\n",
      "\u001b[1;31mStopIteration\u001b[0m: "
     ]
    }
   ],
   "source": [
    "print(next(gen))"
   ]
  },
  {
   "cell_type": "code",
   "execution_count": 341,
   "id": "ed65ebb3-ff1c-44a0-a862-d5c406dc1fe4",
   "metadata": {},
   "outputs": [],
   "source": [
    "number=[1,2,3]\n",
    "num_itr=iter(number)"
   ]
  },
  {
   "cell_type": "code",
   "execution_count": 342,
   "id": "8b1b9d42-2857-4d3d-b996-0ac4e662f309",
   "metadata": {},
   "outputs": [
    {
     "name": "stdout",
     "output_type": "stream",
     "text": [
      "1\n"
     ]
    }
   ],
   "source": [
    "print(next(num_itr))"
   ]
  },
  {
   "cell_type": "code",
   "execution_count": 343,
   "id": "fc27811e-7c7e-4227-9497-3426cfb3ad9e",
   "metadata": {},
   "outputs": [
    {
     "name": "stdout",
     "output_type": "stream",
     "text": [
      "4\n",
      "3\n",
      "2\n",
      "1\n",
      "0\n"
     ]
    }
   ],
   "source": [
    "class CountdownItr:\n",
    "    def __init__(self, count):\n",
    "        self.count = count\n",
    "\n",
    "    def __iter__(self):\n",
    "        return self\n",
    "\n",
    "    def __next__(self):\n",
    "        if self.count <= 0:\n",
    "            raise StopIteration\n",
    "        self.count -= 1\n",
    "        return self.count\n",
    "\n",
    "value = CountdownItr(5)\n",
    "\n",
    "for num in value:\n",
    "    print(num)"
   ]
  },
  {
   "cell_type": "code",
   "execution_count": 344,
   "id": "7514289b-1d89-4ceb-808c-aa1ef33a8d20",
   "metadata": {},
   "outputs": [
    {
     "data": {
      "text/plain": [
       "1"
      ]
     },
     "execution_count": 344,
     "metadata": {},
     "output_type": "execute_result"
    }
   ],
   "source": [
    "def fun1():\n",
    "    return 1\n",
    "    return 2\n",
    "    return 3\n",
    "fun1()"
   ]
  },
  {
   "cell_type": "code",
   "execution_count": 345,
   "id": "39fe53d2-fb54-4f09-b1c4-f56f773954fc",
   "metadata": {},
   "outputs": [
    {
     "name": "stdout",
     "output_type": "stream",
     "text": [
      "<generator object fun1 at 0x000001F1751C43B0>\n"
     ]
    }
   ],
   "source": [
    "def fun1():\n",
    "    yield 1\n",
    "    yield 2\n",
    "    yield 3\n",
    "print(fun1())"
   ]
  },
  {
   "cell_type": "code",
   "execution_count": 346,
   "id": "e7b54bf1-e7ff-4d1c-99ff-1b140ba95c99",
   "metadata": {},
   "outputs": [],
   "source": [
    "#SESSION 2 demo-context manger & with statement"
   ]
  },
  {
   "cell_type": "code",
   "execution_count": 347,
   "id": "838fcc48-da73-4e96-8235-d7e3e702747c",
   "metadata": {},
   "outputs": [
    {
     "name": "stdout",
     "output_type": "stream",
     "text": [
      "[1]came inside __init__\n",
      "[2]came inside __enter__\n",
      "[3] Inside the with\n",
      "[4] Ipu= 3.14\n",
      "[5]came inside __exit__\n",
      "[6] outside the with clause\n"
     ]
    }
   ],
   "source": [
    "#code demo - context manager\n",
    "\n",
    "class Helloworldpu():\n",
    "    def __init__(self):\n",
    "        print(\"[1]came inside __init__\")\n",
    "\n",
    "    def __enter__(self):\n",
    "        print(\"[2]came inside __enter__\")\n",
    "        return 3.14\n",
    "\n",
    "    def __exit__(self,exc_type,exc_value,exc_tb):\n",
    "        print(\"[5]came inside __exit__\")\n",
    "\n",
    "with Helloworldpu() as pu:\n",
    "    print(\"[3] Inside the with\")\n",
    "    print(\"[4] Ipu=\",pu)\n",
    "\n",
    "print(\"[6] outside the with clause\")"
   ]
  },
  {
   "cell_type": "code",
   "execution_count": 348,
   "id": "42b48307-71d1-4405-8ea9-8a24f2bbeff8",
   "metadata": {},
   "outputs": [
    {
     "name": "stdout",
     "output_type": "stream",
     "text": [
      "[1]came inside __init__\n",
      "[2]came inside __enter__\n",
      "[3] Inside the with\n",
      "[4] Ipu= 3.14\n",
      "[5]came inside __exit__\n",
      "<class 'ZeroDivisionError'>**\n",
      "division by zero**\n",
      "<traceback object at 0x000001F174DBE1C0>\n"
     ]
    },
    {
     "ename": "ZeroDivisionError",
     "evalue": "division by zero",
     "output_type": "error",
     "traceback": [
      "\u001b[1;31m---------------------------------------------------------------------------\u001b[0m",
      "\u001b[1;31mZeroDivisionError\u001b[0m                         Traceback (most recent call last)",
      "Cell \u001b[1;32mIn[348], line 18\u001b[0m\n\u001b[0;32m     16\u001b[0m     \u001b[38;5;28mprint\u001b[39m(\u001b[38;5;124m\"\u001b[39m\u001b[38;5;124m[3] Inside the with\u001b[39m\u001b[38;5;124m\"\u001b[39m)\n\u001b[0;32m     17\u001b[0m     \u001b[38;5;28mprint\u001b[39m(\u001b[38;5;124m\"\u001b[39m\u001b[38;5;124m[4] Ipu=\u001b[39m\u001b[38;5;124m\"\u001b[39m,pu)\n\u001b[1;32m---> 18\u001b[0m     val\u001b[38;5;241m=\u001b[39m\u001b[38;5;241;43m1\u001b[39;49m\u001b[38;5;241;43m/\u001b[39;49m\u001b[38;5;241;43m0\u001b[39;49m\n\u001b[0;32m     20\u001b[0m \u001b[38;5;28mprint\u001b[39m(\u001b[38;5;124m\"\u001b[39m\u001b[38;5;124m[6] outside the with clause\u001b[39m\u001b[38;5;124m\"\u001b[39m)\n",
      "\u001b[1;31mZeroDivisionError\u001b[0m: division by zero"
     ]
    }
   ],
   "source": [
    "#code demo - context manager - v4 - using exception\n",
    "\n",
    "class Helloworldpu():\n",
    "    def __init__(self):\n",
    "        print(\"[1]came inside __init__\")\n",
    "\n",
    "    def __enter__(self):\n",
    "        print(\"[2]came inside __enter__\")\n",
    "        return 3.14\n",
    "\n",
    "    def __exit__(self,exc_type,exc_value,exc_tb):\n",
    "        print(\"[5]came inside __exit__\")\n",
    "        print(exc_type,exc_value,exc_tb,sep=\"**\\n\")\n",
    "\n",
    "with Helloworldpu() as pu:\n",
    "    print(\"[3] Inside the with\")\n",
    "    print(\"[4] Ipu=\",pu)\n",
    "    val=1/0\n",
    "\n",
    "print(\"[6] outside the with clause\")\n"
   ]
  },
  {
   "cell_type": "code",
   "execution_count": 349,
   "id": "6e204e90-a13c-4ebd-9996-6cd3a383718d",
   "metadata": {},
   "outputs": [
    {
     "name": "stdout",
     "output_type": "stream",
     "text": [
      "[1]came inside __init__\n",
      "[2]came inside __enter__\n",
      "[3] Inside the with\n",
      "[4] Ipu= 3.14\n",
      "[5]came inside __exit__\n",
      "<class 'ZeroDivisionError'>***\n",
      "division by zero***\n",
      "<traceback object at 0x000001F174CF6680>\n",
      "[6] outside the with clause\n"
     ]
    }
   ],
   "source": [
    "#code demo - context manager - v5 - swallow exception\n",
    "\n",
    "class Helloworldpu():\n",
    "    def __init__(self):\n",
    "        print(\"[1]came inside __init__\")\n",
    "\n",
    "    def __enter__(self):\n",
    "        print(\"[2]came inside __enter__\")\n",
    "        return 3.14\n",
    "\n",
    "    def __exit__(self,exc_type,exc_value,exc_tb):\n",
    "        print(\"[5]came inside __exit__\")\n",
    "        print(exc_type,exc_value,exc_tb,sep=\"***\\n\")\n",
    "        return True\n",
    "\n",
    "with Helloworldpu() as pu:\n",
    "    print(\"[3] Inside the with\")\n",
    "    print(\"[4] Ipu=\",pu)\n",
    "    val=1/0\n",
    "\n",
    "print(\"[6] outside the with clause\")\n"
   ]
  },
  {
   "cell_type": "code",
   "execution_count": 350,
   "id": "2793c591-39c4-449c-922f-195e626bbfde",
   "metadata": {},
   "outputs": [
    {
     "name": "stdout",
     "output_type": "stream",
     "text": [
      "__enter__\n",
      "with clause\n",
      "__exit__\n",
      "Took 0.0319s\n",
      "Outside the with clause\n"
     ]
    }
   ],
   "source": [
    "#use case of context manager: Timer\n",
    "\n",
    "import time \n",
    "from time import perf_counter\n",
    "\n",
    "class Timer:\n",
    "    def __enter__(self):\n",
    "        print(\"__enter__\")\n",
    "        self.start=time.perf_counter()\n",
    "        self.end=0.0\n",
    "    def __exit__(self,exc_type,exc_value,exc_tb):\n",
    "        print(\"__exit__\")\n",
    "        self.end=time.perf_counter()\n",
    "        print(f\"Took {(self.end-self.start):.4f}s\")\n",
    "with Timer():\n",
    "        print(\"with clause\")\n",
    "        for i in range(100000):\n",
    "            #dont give any print statement here\n",
    "            j=i*i*i\n",
    "print(\"Outside the with clause\")"
   ]
  },
  {
   "cell_type": "code",
   "execution_count": 351,
   "id": "12c37a79-d8b8-4590-b480-b8eeceb0fb98",
   "metadata": {},
   "outputs": [
    {
     "name": "stdout",
     "output_type": "stream",
     "text": [
      "kind of inside the __enter__\n",
      "123\n",
      "kind of inside the __enter__\n"
     ]
    }
   ],
   "source": [
    "#Function as Context Manager\n",
    "#using @contextmanager(decorator) with contextlib(library)\n",
    "\n",
    "from contextlib import contextmanager\n",
    "@contextmanager\n",
    "def timer_cm():\n",
    "    print(\"kind of inside the __enter__\")\n",
    "    yield 123\n",
    "    print(\"kind of inside the __enter__\")\n",
    "with timer_cm() as var:\n",
    "    print(var)\n",
    "    \n"
   ]
  },
  {
   "cell_type": "code",
   "execution_count": 352,
   "id": "87470473-064b-41a4-81fd-3f8f13b5c89f",
   "metadata": {},
   "outputs": [],
   "source": [
    "#Excercises To Practice"
   ]
  },
  {
   "cell_type": "code",
   "execution_count": 353,
   "id": "d7d05372-104f-491f-b430-f7ee27fa7d1f",
   "metadata": {},
   "outputs": [
    {
     "name": "stdout",
     "output_type": "stream",
     "text": [
      "Took 0.0285s\n",
      "Took 0.0680s\n",
      "Took 0.0020s\n"
     ]
    }
   ],
   "source": [
    "\"\"\"1) Design a python application to identify the time consumed by system for any iterative statement using context lib\"\"\"\n",
    "import time\n",
    "from contextlib import contextmanager\n",
    "\n",
    "@contextmanager\n",
    "def timer():\n",
    "    start = time.perf_counter()\n",
    "    try:\n",
    "        yield\n",
    "    finally:\n",
    "        end = time.perf_counter()\n",
    "        print(f\"Took {(end - start):.4f}s\")\n",
    "        \n",
    "with timer():\n",
    "    for i in range(100000):\n",
    "        j = i * i * i\n",
    "\n",
    "with timer():\n",
    "    result = sum(range(1000000))\n",
    "\n",
    "with timer():\n",
    "    squares = [x**2 for x in range(10000)]\n"
   ]
  },
  {
   "cell_type": "code",
   "execution_count": 354,
   "id": "2af4c788-00a1-4cbf-a9b5-542b181dc927",
   "metadata": {},
   "outputs": [
    {
     "name": "stdout",
     "output_type": "stream",
     "text": [
      "Exception 'ZeroDivisionError' suppressed: division by zero\n"
     ]
    }
   ],
   "source": [
    "\"\"\"2) You need to perform some operations where certain exceptions can be\n",
    "safely ignored, and you want to suppress these exceptions. To ensure\n",
    "that these exceptions are handled properly, you decide to use a\n",
    "context manager\"\"\"\n",
    "\n",
    "from contextlib import contextmanager\n",
    "\n",
    "@contextmanager\n",
    "def suppress_exceptions(*exceptions):\n",
    "    try:\n",
    "        yield\n",
    "    except exceptions as ex:\n",
    "        print(f\"Exception '{type(ex).__name__}' suppressed: {ex}\")\n",
    "\n",
    "# Example usage\n",
    "with suppress_exceptions(ZeroDivisionError, ValueError):\n",
    "    x = 1 / 0 \n",
    "    y = int('abc') \n",
    "\n",
    "    print(\"Operations completed successfully despite exceptions.\")\n"
   ]
  },
  {
   "cell_type": "code",
   "execution_count": null,
   "id": "5b8dc9bf-daa5-4bba-90b7-c5efa81de2cf",
   "metadata": {},
   "outputs": [],
   "source": [
    "\"\"\"3) You need to read the contents of a file. However, the file might not\n",
    "exist or there might be an issue while reading the file. You want to\n",
    "ensure that any exceptions are handled gracefully and that a\n",
    "meaningful error message is displayed.\"\"\"\n",
    "\n",
    "def read_file(file_path):\n",
    "    try:\n",
    "        with open(file_path, 'r') as file:\n",
    "            content = file.read()\n",
    "            print(\"File contents:\")\n",
    "            print(content)\n",
    "    except FileNotFoundError:\n",
    "        print(f\"Error: The file '{file_path}' does not exist.\")\n",
    "    except IOError as e:\n",
    "        print(f\"Error: An IOError occurred while reading the file '{file_path}'. Details: {e}\")\n",
    "\n",
    "# Example usage\n",
    "file_path = 'f.txt'\n",
    "read_file(\"C:\\Users\\Mahaboob\\Downloads\\My Letter - Cover Letter Now_files\\f.txt\")\n"
   ]
  },
  {
   "cell_type": "code",
   "execution_count": null,
   "id": "8199a955-2b88-4902-9d8c-fc491266a766",
   "metadata": {},
   "outputs": [],
   "source": [
    "\"\"\"4) You need to load and parse a JSON file. However, the file might not\n",
    "exist, or the file content might not be valid JSON. You want to ensure\n",
    "that any exceptions are handled gracefully and that a meaningful error\n",
    "message is displayed.\"\"\"\n",
    "\n",
    "import json\n",
    "\n",
    "def load_json(file_path):\n",
    "    try:\n",
    "        with open(file_path, 'r') as file:\n",
    "            data = json.load(file)\n",
    "            print(\"JSON content loaded successfully:\")\n",
    "            print(data)\n",
    "    except FileNotFoundError:\n",
    "        print(f\"Error: The file '{file_path}' does not exist.\")\n",
    "    except json.JSONDecodeError:\n",
    "        print(f\"Error: The file '{file_path}' contains invalid JSON.\")\n",
    "    except IOError as e:\n",
    "        print(f\"Error: An IOError occurred while reading the file '{file_path}'. Details: {e}\")\n",
    "\n",
    "# Example usage\n",
    "file_path = '\"C:\\Users\\Mahaboob\\Downloads\\My Letter - Cover Letter Now_files\\f.txt\"'\n",
    "load_json(\"C:\\Users\\Mahaboob\\Downloads\\My Letter - Cover Letter Now_files\\f.txt\")"
   ]
  },
  {
   "cell_type": "code",
   "execution_count": 358,
   "id": "c4f2599f-4907-48e0-8b58-56c0ad01121c",
   "metadata": {},
   "outputs": [],
   "source": [
    "# Exception handling - demo"
   ]
  },
  {
   "cell_type": "markdown",
   "id": "1b5151a4-c733-4d1d-966d-c0684038b805",
   "metadata": {},
   "source": [
    "# exception ->an event that interupts the flow of a program"
   ]
  },
  {
   "cell_type": "code",
   "execution_count": 356,
   "id": "944a599e-5d75-4a7d-acfd-4e952840e69e",
   "metadata": {},
   "outputs": [
    {
     "ename": "TypeError",
     "evalue": "unsupported operand type(s) for +: 'int' and 'str'",
     "output_type": "error",
     "traceback": [
      "\u001b[1;31m---------------------------------------------------------------------------\u001b[0m",
      "\u001b[1;31mTypeError\u001b[0m                                 Traceback (most recent call last)",
      "Cell \u001b[1;32mIn[356], line 1\u001b[0m\n\u001b[1;32m----> 1\u001b[0m \u001b[38;5;241;43m10\u001b[39;49m\u001b[38;5;241;43m+\u001b[39;49m\u001b[38;5;124;43m\"\u001b[39;49m\u001b[38;5;124;43madd me\u001b[39;49m\u001b[38;5;124;43m\"\u001b[39;49m\n",
      "\u001b[1;31mTypeError\u001b[0m: unsupported operand type(s) for +: 'int' and 'str'"
     ]
    }
   ],
   "source": [
    "10+\"add me\""
   ]
  },
  {
   "cell_type": "code",
   "execution_count": 359,
   "id": "518ac454-8c6c-49f7-abcd-74bc7f1fe43a",
   "metadata": {},
   "outputs": [
    {
     "ename": "ValueError",
     "evalue": "invalid literal for int() with base 10: 'python'",
     "output_type": "error",
     "traceback": [
      "\u001b[1;31m---------------------------------------------------------------------------\u001b[0m",
      "\u001b[1;31mValueError\u001b[0m                                Traceback (most recent call last)",
      "Cell \u001b[1;32mIn[359], line 1\u001b[0m\n\u001b[1;32m----> 1\u001b[0m \u001b[38;5;28;43mint\u001b[39;49m\u001b[43m(\u001b[49m\u001b[38;5;124;43m\"\u001b[39;49m\u001b[38;5;124;43mpython\u001b[39;49m\u001b[38;5;124;43m\"\u001b[39;49m\u001b[43m)\u001b[49m\n",
      "\u001b[1;31mValueError\u001b[0m: invalid literal for int() with base 10: 'python'"
     ]
    }
   ],
   "source": [
    "int(\"python\")"
   ]
  },
  {
   "cell_type": "code",
   "execution_count": 363,
   "id": "f181415a-0ee0-481d-bbbe-de37d862a079",
   "metadata": {},
   "outputs": [
    {
     "name": "stdin",
     "output_type": "stream",
     "text": [
      "enter a number 0\n"
     ]
    },
    {
     "ename": "ZeroDivisionError",
     "evalue": "division by zero",
     "output_type": "error",
     "traceback": [
      "\u001b[1;31m---------------------------------------------------------------------------\u001b[0m",
      "\u001b[1;31mZeroDivisionError\u001b[0m                         Traceback (most recent call last)",
      "Cell \u001b[1;32mIn[363], line 3\u001b[0m\n\u001b[0;32m      1\u001b[0m \u001b[38;5;66;03m#base code\u001b[39;00m\n\u001b[0;32m      2\u001b[0m N\u001b[38;5;241m=\u001b[39m\u001b[38;5;28mint\u001b[39m(\u001b[38;5;28minput\u001b[39m(\u001b[38;5;124m\"\u001b[39m\u001b[38;5;124menter a number\u001b[39m\u001b[38;5;124m\"\u001b[39m))\n\u001b[1;32m----> 3\u001b[0m \u001b[38;5;28mprint\u001b[39m(\u001b[38;5;241;43m1\u001b[39;49m\u001b[43m \u001b[49m\u001b[38;5;241;43m/\u001b[39;49m\u001b[43m \u001b[49m\u001b[43mN\u001b[49m)\n",
      "\u001b[1;31mZeroDivisionError\u001b[0m: division by zero"
     ]
    }
   ],
   "source": [
    "#base code\n",
    "N=int(input(\"enter a number\"))\n",
    "print(1 / N)"
   ]
  },
  {
   "cell_type": "code",
   "execution_count": 371,
   "id": "10b1e536-dc73-4ea4-81e1-8139d699f16a",
   "metadata": {},
   "outputs": [
    {
     "name": "stdin",
     "output_type": "stream",
     "text": [
      "Enter a number:  0\n"
     ]
    },
    {
     "name": "stdout",
     "output_type": "stream",
     "text": [
      "You can't divide by zero.\n"
     ]
    }
   ],
   "source": [
    "try:\n",
    "    N = int(input(\"Enter a number: \"))\n",
    "    print(1 / N)\n",
    "except ZeroDivisionError:\n",
    "    print(\"You can't divide by zero.\")"
   ]
  },
  {
   "cell_type": "code",
   "execution_count": 373,
   "id": "5a509726-dcc9-4df4-b677-eea2d40f0269",
   "metadata": {},
   "outputs": [
    {
     "name": "stdin",
     "output_type": "stream",
     "text": [
      "Enter a number:  1\n"
     ]
    },
    {
     "name": "stdout",
     "output_type": "stream",
     "text": [
      "1.0\n"
     ]
    }
   ],
   "source": [
    "try:\n",
    "    N = int(input(\"Enter a number: \"))\n",
    "    print(1 / N)\n",
    "except ZeroDivisionError:\n",
    "    print(\"You can't divide by zero.\")\n",
    "except ValueError:\n",
    "    print(\"Invalid input. Please enter a number\")"
   ]
  },
  {
   "cell_type": "code",
   "execution_count": 374,
   "id": "8ac28685-c98e-4ef1-ba8f-3008e40f35e6",
   "metadata": {},
   "outputs": [
    {
     "name": "stdin",
     "output_type": "stream",
     "text": [
      "Enter a number:  1\n"
     ]
    },
    {
     "name": "stdout",
     "output_type": "stream",
     "text": [
      "1.0\n",
      "i am printing with or without error!\n"
     ]
    }
   ],
   "source": [
    "try:\n",
    "    N = int(input(\"Enter a number: \"))\n",
    "    print(1 / N)\n",
    "except ZeroDivisionError:\n",
    "    print(\"You can't divide by zero.\")\n",
    "except ValueError:\n",
    "    print(\"Invalid input. Please enter a number\")\n",
    "finally:\n",
    "    print(\"i am printing with or without error!\")"
   ]
  },
  {
   "cell_type": "code",
   "execution_count": 383,
   "id": "76a7e3eb-a655-4543-845a-3f1cfd81649a",
   "metadata": {},
   "outputs": [
    {
     "name": "stdin",
     "output_type": "stream",
     "text": [
      "Enter a number: shaik\n"
     ]
    },
    {
     "name": "stdout",
     "output_type": "stream",
     "text": [
      "<class 'ValueError'>\n"
     ]
    }
   ],
   "source": [
    "#best practice - 1\n",
    "try:\n",
    "    N=int(input(\"Enter a number:\"))\n",
    "    print(1 / N)\n",
    "except Exception as error: # always give type(error) in print to see the exact error\n",
    "    print(type(error))\n"
   ]
  },
  {
   "cell_type": "code",
   "execution_count": 386,
   "id": "5152ece3-3e5b-4e25-a137-2538327164cf",
   "metadata": {},
   "outputs": [
    {
     "name": "stdin",
     "output_type": "stream",
     "text": [
      "Enter a number: 0\n"
     ]
    },
    {
     "name": "stdout",
     "output_type": "stream",
     "text": [
      "Something went wrong\n",
      "i am printing with or without error!\n"
     ]
    }
   ],
   "source": [
    "#best practice - 2\n",
    "\n",
    "try:\n",
    "    N=int(input(\"Enter a number:\"))\n",
    "    print(1 / N)\n",
    "except Exception:\n",
    "    print(\"Something went wrong\")\n",
    "\n",
    "except ZeroDivisionError:\n",
    "    print(\"You can't divide by zero.\")\n",
    "except ValueError:\n",
    "    print(\"Invalid input. Please enter a number\")\n",
    "except Exception as error: \n",
    "    print(type(error))\n",
    "finally:\n",
    "    print(\"i am printing with or without error!\")\n",
    "    "
   ]
  },
  {
   "cell_type": "code",
   "execution_count": 390,
   "id": "202035fb-f2de-4427-b56a-8323f389dc07",
   "metadata": {},
   "outputs": [
    {
     "name": "stdin",
     "output_type": "stream",
     "text": [
      "Enter a number: 9\n"
     ]
    },
    {
     "name": "stdout",
     "output_type": "stream",
     "text": [
      "0.1111111111111111\n",
      "NO ERROR OCCURED,SUCCESS!\n",
      "i am printing with or without error!\n"
     ]
    }
   ],
   "source": [
    "#best practice - 3\n",
    "#usage of ELSE block!\n",
    "\n",
    "try:\n",
    "    N=int(input(\"Enter a number:\"))\n",
    "    print(1 / N)\n",
    "except Exception:\n",
    "    print(\"Something went wrong\")\n",
    "\n",
    "except ZeroDivisionError:\n",
    "    print(\"You can't divide by zero.\")\n",
    "except ValueError:\n",
    "    print(\"Invalid input. Please enter a number\")\n",
    "except Exception as error: \n",
    "    print(type(error))\n",
    "    #error block should be present after all the except blocks\n",
    "else:\n",
    "    print(\"NO ERROR OCCURED,SUCCESS!\")\n",
    "finally:\n",
    "    print(\"i am printing with or without error!\")\n",
    "    "
   ]
  },
  {
   "cell_type": "code",
   "execution_count": null,
   "id": "96ffedf3-ff4c-4646-ae39-5c9d19e79d59",
   "metadata": {},
   "outputs": [],
   "source": [
    "# Exercise 2 - To practice"
   ]
  },
  {
   "cell_type": "code",
   "execution_count": 398,
   "id": "6ff7c0ff-a922-470e-9a86-f19673169927",
   "metadata": {},
   "outputs": [
    {
     "ename": "SyntaxError",
     "evalue": "(unicode error) 'unicodeescape' codec can't decode bytes in position 2-3: truncated \\UXXXXXXXX escape (766392298.py, line 19)",
     "output_type": "error",
     "traceback": [
      "\u001b[1;36m  Cell \u001b[1;32mIn[398], line 19\u001b[1;36m\u001b[0m\n\u001b[1;33m    read_file(\"C:\\Users\\Mahaboob\\Downloads\\My Letter - Cover Letter Now_files\\f.txt\")\u001b[0m\n\u001b[1;37m                                                                                    ^\u001b[0m\n\u001b[1;31mSyntaxError\u001b[0m\u001b[1;31m:\u001b[0m (unicode error) 'unicodeescape' codec can't decode bytes in position 2-3: truncated \\UXXXXXXXX escape\n"
     ]
    }
   ],
   "source": [
    "\"\"\"You need to read the contents of a file. However, the file might not\n",
    "exist or there might be an issue while reading the file. You want to\n",
    "ensure that any exceptions are handled gracefully and that a\n",
    "meaningful error message is displayed.\"\"\"\n",
    "\n",
    "def read_file(file_path):\n",
    "    try:\n",
    "        with open(file_path, 'r') as file:\n",
    "            content = file.read()\n",
    "            print(\"File contents:\")\n",
    "            print(content)\n",
    "    except FileNotFoundError:\n",
    "        print(f\"Error: The file '{file_path}' does not exist.\")\n",
    "    except IOError as e:\n",
    "        print(f\"Error: An IOError occurred while reading the file '{file_path}'. Details: {e}\")\n",
    "\n",
    "# Example usage\n",
    "file_path = 'f.txt'\n",
    "read_file(\"C:\\Users\\Mahaboob\\Downloads\\My Letter - Cover Letter Now_files\\f.txt\")\n"
   ]
  },
  {
   "cell_type": "code",
   "execution_count": 399,
   "id": "09318aa1-d5fc-488a-a97d-6d22db6e1187",
   "metadata": {},
   "outputs": [
    {
     "ename": "SyntaxError",
     "evalue": "(unicode error) 'unicodeescape' codec can't decode bytes in position 3-4: truncated \\UXXXXXXXX escape (3556740591.py, line 22)",
     "output_type": "error",
     "traceback": [
      "\u001b[1;36m  Cell \u001b[1;32mIn[399], line 22\u001b[1;36m\u001b[0m\n\u001b[1;33m    file_path = '\"C:\\Users\\Mahaboob\\Downloads\\My Letter - Cover Letter Now_files\\f.txt\"'\u001b[0m\n\u001b[1;37m                                                                                        ^\u001b[0m\n\u001b[1;31mSyntaxError\u001b[0m\u001b[1;31m:\u001b[0m (unicode error) 'unicodeescape' codec can't decode bytes in position 3-4: truncated \\UXXXXXXXX escape\n"
     ]
    }
   ],
   "source": [
    "\"\"\"You need to load and parse a JSON file. However, the file might not\n",
    "exist, or the file content might not be valid JSON. You want to ensure\n",
    "that any exceptions are handled gracefully and that a meaningful error\n",
    "message is displayed.\"\"\"\n",
    "\n",
    "import json\n",
    "\n",
    "def load_json(file_path):\n",
    "    try:\n",
    "        with open(file_path, 'r') as file:\n",
    "            data = json.load(file)\n",
    "            print(\"JSON content loaded successfully:\")\n",
    "            print(data)\n",
    "    except FileNotFoundError:\n",
    "        print(f\"Error: The file '{file_path}' does not exist.\")\n",
    "    except json.JSONDecodeError:\n",
    "        print(f\"Error: The file '{file_path}' contains invalid JSON.\")\n",
    "    except IOError as e:\n",
    "        print(f\"Error: An IOError occurred while reading the file '{file_path}'. Details: {e}\")\n",
    "\n",
    "# Example usage\n",
    "file_path = '\"C:\\Users\\Mahaboob\\Downloads\\My Letter - Cover Letter Now_files\\f.txt\"'\n",
    "load_json(\"C:\\Users\\Mahaboob\\Downloads\\My Letter - Cover Letter Now_files\\f.txt\")"
   ]
  },
  {
   "cell_type": "code",
   "execution_count": 400,
   "id": "662b4703-a766-4f41-90df-be10b668756f",
   "metadata": {},
   "outputs": [
    {
     "name": "stdout",
     "output_type": "stream",
     "text": [
      "5\n",
      "4\n",
      "3\n"
     ]
    }
   ],
   "source": [
    "def countdown(n):\n",
    "    while n>0:\n",
    "        yield n\n",
    "        n-=1\n",
    "cd=countdown(5)\n",
    "print(next(cd))\n",
    "print(next(cd))\n",
    "print(next(cd))"
   ]
  },
  {
   "cell_type": "code",
   "execution_count": 401,
   "id": "09f5a3a8-88ca-43e7-8a9e-2e440b4755bf",
   "metadata": {},
   "outputs": [
    {
     "name": "stdout",
     "output_type": "stream",
     "text": [
      "{'a': 1, 'b': 3, 'c': 4}\n"
     ]
    }
   ],
   "source": [
    "d={'a':1,'b':2}\n",
    "d.update({'b':3,'c':4})\n",
    "print(d)"
   ]
  },
  {
   "cell_type": "code",
   "execution_count": 402,
   "id": "647a2b15-cfc8-476f-9df4-db63ced4e526",
   "metadata": {},
   "outputs": [
    {
     "name": "stdout",
     "output_type": "stream",
     "text": [
      "{3}\n"
     ]
    }
   ],
   "source": [
    "a={1,2,3}\n",
    "b={3,4,5}\n",
    "c=a.intersection(b)\n",
    "print(c)"
   ]
  },
  {
   "cell_type": "code",
   "execution_count": 403,
   "id": "a04d8b70-06a2-4e90-9ced-ac969a92b889",
   "metadata": {},
   "outputs": [
    {
     "name": "stdout",
     "output_type": "stream",
     "text": [
      "TypeError\n"
     ]
    }
   ],
   "source": [
    "def func(t):\n",
    "    t[0]=5\n",
    "    return t\n",
    "t=(1,2,3)\n",
    "try:\n",
    "    func(t)\n",
    "except TypeError:\n",
    "    print(\"TypeError\")"
   ]
  },
  {
   "cell_type": "code",
   "execution_count": 404,
   "id": "d565cf4c-db2b-49ea-9448-e03467642664",
   "metadata": {},
   "outputs": [
    {
     "name": "stdout",
     "output_type": "stream",
     "text": [
      "[0, 4, 16, 36, 64]\n"
     ]
    }
   ],
   "source": [
    "lst=[i**2 for i in range(10) if i%2==0]\n",
    "print(lst)"
   ]
  },
  {
   "cell_type": "code",
   "execution_count": 405,
   "id": "f3a27e2c-ec71-4475-97df-afbd4c147e01",
   "metadata": {},
   "outputs": [
    {
     "name": "stdout",
     "output_type": "stream",
     "text": [
      "[0, 10, 20, 4, 5]\n"
     ]
    }
   ],
   "source": [
    "lst=[0,1,2,3,4,5]\n",
    "lst[1:4]=[10,20]\n",
    "print(lst)"
   ]
  },
  {
   "cell_type": "code",
   "execution_count": null,
   "id": "be6d1549-3137-4358-a7cc-8d4d0b260309",
   "metadata": {},
   "outputs": [],
   "source": []
  }
 ],
 "metadata": {
  "kernelspec": {
   "display_name": "Python 3 (ipykernel)",
   "language": "python",
   "name": "python3"
  },
  "language_info": {
   "codemirror_mode": {
    "name": "ipython",
    "version": 3
   },
   "file_extension": ".py",
   "mimetype": "text/x-python",
   "name": "python",
   "nbconvert_exporter": "python",
   "pygments_lexer": "ipython3",
   "version": "3.11.4"
  }
 },
 "nbformat": 4,
 "nbformat_minor": 5
}
